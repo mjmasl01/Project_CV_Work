{
 "cells": [
  {
   "cell_type": "markdown",
   "id": "feffb269",
   "metadata": {},
   "source": [
    "SchoolId: A unique identifier for each school.\n",
    "SchoolName: The name of the school.\n",
    "IsActive: A boolean column that indicates whether the school is active (True) or not (False).\n",
    "City: The city where the school is located.\n",
    "Location: Likely a composite string or field combining latitude and longitude.\n",
    "Latitude: The geographic latitude of the school’s location.\n",
    "Longitude: The geographic longitude of the school’s location.\n",
    "DistrictName: The name of the district where the school is located.\n",
    "StateName: The state where the school is located.\n",
    "Cycle: This could represent a cycle in an academic or data collection process, like \"Cycle 1-Batch 1.\"\n",
    "CreatedOn: The timestamp indicating when the school record was created.\n",
    "AcademicYearId: The identifier for the academic year.\n",
    "Year: The specific year this data applies to, such as 2023.\n",
    "Project: The name of the project the school data is related to (e.g., \"Sarangani\")."
   ]
  },
  {
   "cell_type": "code",
   "execution_count": 3,
   "id": "c5178dcd",
   "metadata": {},
   "outputs": [
    {
     "name": "stderr",
     "output_type": "stream",
     "text": [
      "C:\\Users\\21963\\anaconda3\\lib\\site-packages\\pandas\\core\\arrays\\masked.py:60: UserWarning: Pandas requires version '1.3.6' or newer of 'bottleneck' (version '1.3.5' currently installed).\n",
      "  from pandas.core import (\n"
     ]
    },
    {
     "name": "stdout",
     "output_type": "stream",
     "text": [
      "SchoolId            0\n",
      "SchoolName        101\n",
      "IsActive            0\n",
      "City              101\n",
      "GeoLocation         1\n",
      "Latitude            1\n",
      "Longitude           1\n",
      "DistrictName      101\n",
      "StateName         101\n",
      "Cycle               0\n",
      "CreatedOn           0\n",
      "AcademicYearId      0\n",
      "Year                0\n",
      "Project             0\n",
      "dtype: int64\n"
     ]
    }
   ],
   "source": [
    "import pandas as pd\n",
    "df = pd.read_excel(\"CuC Sample Data - 2024 06 13.xlsx\", sheet_name='schools')\n",
    "print(df.isnull().sum())\n"
   ]
  },
  {
   "cell_type": "code",
   "execution_count": 4,
   "id": "16663eea",
   "metadata": {},
   "outputs": [
    {
     "name": "stdout",
     "output_type": "stream",
     "text": [
      "head5：\n",
      "   SchoolId  SchoolName  IsActive  City     GeoLocation  Latitude  Longitude  \\\n",
      "0        43         NaN      True   NaN  14.600/120.984      14.6    120.984   \n",
      "1        44         NaN      True   NaN  14.600/120.984      14.6    120.984   \n",
      "2        46         NaN      True   NaN  14.600/120.984      14.6    120.984   \n",
      "3        47         NaN      True   NaN  14.600/120.984      14.6    120.984   \n",
      "4        48         NaN      True   NaN  14.600/120.984      14.6    120.984   \n",
      "\n",
      "   DistrictName  StateName            Cycle               CreatedOn  \\\n",
      "0           NaN        NaN  Cycle 1-Batch 1 2022-12-13 21:57:15.303   \n",
      "1           NaN        NaN  Cycle 1-Batch 1 2022-12-13 21:58:43.373   \n",
      "2           NaN        NaN  Cycle 1-Batch 1 2022-12-13 22:01:29.876   \n",
      "3           NaN        NaN  Cycle 1-Batch 1 2022-12-13 22:02:34.816   \n",
      "4           NaN        NaN  Cycle 1-Batch 1 2022-12-13 22:06:40.436   \n",
      "\n",
      "   AcademicYearId  Year    Project  \n",
      "0               6  2023  Sarangani  \n",
      "1               6  2023  Sarangani  \n",
      "2               6  2023  Sarangani  \n",
      "3               6  2023  Sarangani  \n",
      "4               6  2023  Sarangani  \n"
     ]
    }
   ],
   "source": [
    "print(\"head5：\")\n",
    "print(df.head())"
   ]
  },
  {
   "cell_type": "code",
   "execution_count": 7,
   "id": "db91dc4d",
   "metadata": {},
   "outputs": [
    {
     "name": "stdout",
     "output_type": "stream",
     "text": [
      "head5 after drop NA colunms：\n",
      "   SchoolId  IsActive     GeoLocation  Latitude  Longitude            Cycle  \\\n",
      "0        43      True  14.600/120.984      14.6    120.984  Cycle 1-Batch 1   \n",
      "1        44      True  14.600/120.984      14.6    120.984  Cycle 1-Batch 1   \n",
      "2        46      True  14.600/120.984      14.6    120.984  Cycle 1-Batch 1   \n",
      "3        47      True  14.600/120.984      14.6    120.984  Cycle 1-Batch 1   \n",
      "4        48      True  14.600/120.984      14.6    120.984  Cycle 1-Batch 1   \n",
      "\n",
      "                CreatedOn  AcademicYearId  Year    Project  \n",
      "0 2022-12-13 21:57:15.303               6  2023  Sarangani  \n",
      "1 2022-12-13 21:58:43.373               6  2023  Sarangani  \n",
      "2 2022-12-13 22:01:29.876               6  2023  Sarangani  \n",
      "3 2022-12-13 22:02:34.816               6  2023  Sarangani  \n",
      "4 2022-12-13 22:06:40.436               6  2023  Sarangani  \n",
      "SchoolId          0\n",
      "IsActive          0\n",
      "GeoLocation       1\n",
      "Latitude          1\n",
      "Longitude         1\n",
      "Cycle             0\n",
      "CreatedOn         0\n",
      "AcademicYearId    0\n",
      "Year              0\n",
      "Project           0\n",
      "dtype: int64\n"
     ]
    }
   ],
   "source": [
    "df_cleaned = df.dropna(axis=1, how='all')\n",
    "\n",
    "print(\"head5 after drop NA colunms：\")\n",
    "print(df_cleaned.head())\n",
    "print(df_cleaned.isnull().sum())"
   ]
  },
  {
   "cell_type": "code",
   "execution_count": 10,
   "id": "58260313",
   "metadata": {},
   "outputs": [
    {
     "name": "stdout",
     "output_type": "stream",
     "text": [
      "head5 after fill in NA：\n",
      "   SchoolId  IsActive     GeoLocation  Latitude  Longitude            Cycle  \\\n",
      "0        43      True  14.600/120.984      14.6    120.984  Cycle 1-Batch 1   \n",
      "1        44      True  14.600/120.984      14.6    120.984  Cycle 1-Batch 1   \n",
      "2        46      True  14.600/120.984      14.6    120.984  Cycle 1-Batch 1   \n",
      "3        47      True  14.600/120.984      14.6    120.984  Cycle 1-Batch 1   \n",
      "4        48      True  14.600/120.984      14.6    120.984  Cycle 1-Batch 1   \n",
      "\n",
      "                CreatedOn  AcademicYearId  Year    Project  \n",
      "0 2022-12-13 21:57:15.303               6  2023  Sarangani  \n",
      "1 2022-12-13 21:58:43.373               6  2023  Sarangani  \n",
      "2 2022-12-13 22:01:29.876               6  2023  Sarangani  \n",
      "3 2022-12-13 22:02:34.816               6  2023  Sarangani  \n",
      "4 2022-12-13 22:06:40.436               6  2023  Sarangani  \n",
      "SchoolId          0\n",
      "IsActive          0\n",
      "GeoLocation       0\n",
      "Latitude          0\n",
      "Longitude         0\n",
      "Cycle             0\n",
      "CreatedOn         0\n",
      "AcademicYearId    0\n",
      "Year              0\n",
      "Project           0\n",
      "dtype: int64\n"
     ]
    },
    {
     "name": "stderr",
     "output_type": "stream",
     "text": [
      "C:\\Users\\21963\\AppData\\Local\\Temp\\ipykernel_118656\\3547468277.py:1: SettingWithCopyWarning: \n",
      "A value is trying to be set on a copy of a slice from a DataFrame\n",
      "\n",
      "See the caveats in the documentation: https://pandas.pydata.org/pandas-docs/stable/user_guide/indexing.html#returning-a-view-versus-a-copy\n",
      "  df_cleaned.fillna(df_cleaned.mode().iloc[0], inplace=True)\n"
     ]
    }
   ],
   "source": [
    "df_cleaned.fillna(df_cleaned.mode().iloc[0], inplace=True)\n",
    "\n",
    "print(\"head5 after fill in NA：\")\n",
    "print(df_cleaned.head())\n",
    "print(df_cleaned.isnull().sum())"
   ]
  },
  {
   "cell_type": "code",
   "execution_count": 11,
   "id": "7c9d0c09",
   "metadata": {},
   "outputs": [
    {
     "name": "stdout",
     "output_type": "stream",
     "text": [
      "num of schools: 101\n"
     ]
    }
   ],
   "source": [
    "total_schools = df_cleaned['SchoolId'].nunique()\n",
    "print(f\"num of schools: {total_schools}\")"
   ]
  },
  {
   "cell_type": "code",
   "execution_count": 12,
   "id": "8bdbdb78",
   "metadata": {},
   "outputs": [
    {
     "name": "stdout",
     "output_type": "stream",
     "text": [
      "num of active schools: 100\n"
     ]
    }
   ],
   "source": [
    "active_schools = df_cleaned[df_cleaned['IsActive'] == True]['SchoolId'].nunique()\n",
    "print(f\"num of active schools: {active_schools}\")"
   ]
  },
  {
   "cell_type": "code",
   "execution_count": 14,
   "id": "5a213697",
   "metadata": {},
   "outputs": [
    {
     "name": "stdout",
     "output_type": "stream",
     "text": [
      "statistics after group by：\n",
      "             Cycle  AcademicYearId    Project  SchoolCount\n",
      "0  Cycle 1-Batch 1               6  Sarangani           50\n",
      "1  Cycle 1-Batch 2               7  Sarangani           51\n"
     ]
    }
   ],
   "source": [
    "grouped_df = df_cleaned.groupby(['Cycle', 'AcademicYearId', 'Project']).size().reset_index(name='SchoolCount')\n",
    "\n",
    "print(\"statistics after group by：\")\n",
    "print(grouped_df)"
   ]
  },
  {
   "cell_type": "code",
   "execution_count": 16,
   "id": "02df90ba",
   "metadata": {},
   "outputs": [
    {
     "name": "stdout",
     "output_type": "stream",
     "text": [
      "average estabish time：\n",
      "             Cycle  AcademicYearId    Project           AverageCreationDate\n",
      "0  Cycle 1-Batch 1               6  Sarangani 2022-12-16 19:31:46.816900096\n",
      "1  Cycle 1-Batch 2               7  Sarangani 2023-03-31 16:37:06.814156800\n"
     ]
    },
    {
     "name": "stderr",
     "output_type": "stream",
     "text": [
      "C:\\Users\\21963\\AppData\\Local\\Temp\\ipykernel_118656\\1909113204.py:1: SettingWithCopyWarning: \n",
      "A value is trying to be set on a copy of a slice from a DataFrame.\n",
      "Try using .loc[row_indexer,col_indexer] = value instead\n",
      "\n",
      "See the caveats in the documentation: https://pandas.pydata.org/pandas-docs/stable/user_guide/indexing.html#returning-a-view-versus-a-copy\n",
      "  df_cleaned['CreatedOn'] = pd.to_datetime(df_cleaned['CreatedOn'], errors='coerce')  # 确保CreatedOn是日期格式\n"
     ]
    }
   ],
   "source": [
    "df_cleaned['CreatedOn'] = pd.to_datetime(df_cleaned['CreatedOn'], errors='coerce')  # 确保CreatedOn是日期格式\n",
    "average_creation_date = df_cleaned.groupby(['Cycle', 'AcademicYearId', 'Project'])['CreatedOn'].mean().reset_index(name='AverageCreationDate')\n",
    "\n",
    "print(\"average estabish time：\")\n",
    "print(average_creation_date)"
   ]
  },
  {
   "cell_type": "code",
   "execution_count": null,
   "id": "529b45a1",
   "metadata": {},
   "outputs": [],
   "source": []
  }
 ],
 "metadata": {
  "kernelspec": {
   "display_name": "Python 3 (ipykernel)",
   "language": "python",
   "name": "python3"
  },
  "language_info": {
   "codemirror_mode": {
    "name": "ipython",
    "version": 3
   },
   "file_extension": ".py",
   "mimetype": "text/x-python",
   "name": "python",
   "nbconvert_exporter": "python",
   "pygments_lexer": "ipython3",
   "version": "3.10.9"
  }
 },
 "nbformat": 4,
 "nbformat_minor": 5
}
