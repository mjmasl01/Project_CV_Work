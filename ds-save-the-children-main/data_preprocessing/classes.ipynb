{
 "cells": [
  {
   "cell_type": "code",
   "execution_count": 2,
   "metadata": {},
   "outputs": [],
   "source": [
    "import numpy as np\n",
    "import pandas as pd\n",
    "import msoffcrypto\n",
    "import matplotlib.pyplot as plt"
   ]
  },
  {
   "cell_type": "code",
   "execution_count": 11,
   "metadata": {},
   "outputs": [
    {
     "data": {
      "text/html": [
       "<div>\n",
       "<style scoped>\n",
       "    .dataframe tbody tr th:only-of-type {\n",
       "        vertical-align: middle;\n",
       "    }\n",
       "\n",
       "    .dataframe tbody tr th {\n",
       "        vertical-align: top;\n",
       "    }\n",
       "\n",
       "    .dataframe thead th {\n",
       "        text-align: right;\n",
       "    }\n",
       "</style>\n",
       "<table border=\"1\" class=\"dataframe\">\n",
       "  <thead>\n",
       "    <tr style=\"text-align: right;\">\n",
       "      <th></th>\n",
       "      <th>AcademicYearId</th>\n",
       "      <th>AcademicYear</th>\n",
       "      <th>SchoolId</th>\n",
       "      <th>SchoolName</th>\n",
       "      <th>ClassID</th>\n",
       "      <th>ClassName</th>\n",
       "      <th>CreatedOn</th>\n",
       "      <th>IsActive</th>\n",
       "      <th>GradeId</th>\n",
       "      <th>District</th>\n",
       "    </tr>\n",
       "  </thead>\n",
       "  <tbody>\n",
       "    <tr>\n",
       "      <th>0</th>\n",
       "      <td>6</td>\n",
       "      <td>2023-Sarangani-Batch 1-Cycle 1</td>\n",
       "      <td>70</td>\n",
       "      <td>NaN</td>\n",
       "      <td>333</td>\n",
       "      <td>NaN</td>\n",
       "      <td>2023-02-05 06:43:09.493</td>\n",
       "      <td>True</td>\n",
       "      <td>4</td>\n",
       "      <td>NaN</td>\n",
       "    </tr>\n",
       "    <tr>\n",
       "      <th>1</th>\n",
       "      <td>6</td>\n",
       "      <td>2023-Sarangani-Batch 1-Cycle 1</td>\n",
       "      <td>70</td>\n",
       "      <td>NaN</td>\n",
       "      <td>419</td>\n",
       "      <td>NaN</td>\n",
       "      <td>2023-04-08 13:31:48.103</td>\n",
       "      <td>True</td>\n",
       "      <td>4</td>\n",
       "      <td>NaN</td>\n",
       "    </tr>\n",
       "    <tr>\n",
       "      <th>2</th>\n",
       "      <td>6</td>\n",
       "      <td>2023-Sarangani-Batch 1-Cycle 1</td>\n",
       "      <td>70</td>\n",
       "      <td>NaN</td>\n",
       "      <td>480</td>\n",
       "      <td>NaN</td>\n",
       "      <td>2023-04-14 06:50:20.673</td>\n",
       "      <td>True</td>\n",
       "      <td>4</td>\n",
       "      <td>NaN</td>\n",
       "    </tr>\n",
       "    <tr>\n",
       "      <th>3</th>\n",
       "      <td>6</td>\n",
       "      <td>2023-Sarangani-Batch 1-Cycle 1</td>\n",
       "      <td>70</td>\n",
       "      <td>NaN</td>\n",
       "      <td>495</td>\n",
       "      <td>NaN</td>\n",
       "      <td>2023-04-14 07:04:33.266</td>\n",
       "      <td>False</td>\n",
       "      <td>4</td>\n",
       "      <td>NaN</td>\n",
       "    </tr>\n",
       "    <tr>\n",
       "      <th>4</th>\n",
       "      <td>6</td>\n",
       "      <td>2023-Sarangani-Batch 1-Cycle 1</td>\n",
       "      <td>56</td>\n",
       "      <td>NaN</td>\n",
       "      <td>457</td>\n",
       "      <td>NaN</td>\n",
       "      <td>2023-04-09 01:24:56.263</td>\n",
       "      <td>True</td>\n",
       "      <td>4</td>\n",
       "      <td>NaN</td>\n",
       "    </tr>\n",
       "    <tr>\n",
       "      <th>...</th>\n",
       "      <td>...</td>\n",
       "      <td>...</td>\n",
       "      <td>...</td>\n",
       "      <td>...</td>\n",
       "      <td>...</td>\n",
       "      <td>...</td>\n",
       "      <td>...</td>\n",
       "      <td>...</td>\n",
       "      <td>...</td>\n",
       "      <td>...</td>\n",
       "    </tr>\n",
       "    <tr>\n",
       "      <th>361</th>\n",
       "      <td>7</td>\n",
       "      <td>2023-Sarangani-Batch 2-Cycle 1</td>\n",
       "      <td>129</td>\n",
       "      <td>NaN</td>\n",
       "      <td>597</td>\n",
       "      <td>NaN</td>\n",
       "      <td>2023-07-27 09:02:09.310</td>\n",
       "      <td>True</td>\n",
       "      <td>14</td>\n",
       "      <td>NaN</td>\n",
       "    </tr>\n",
       "    <tr>\n",
       "      <th>362</th>\n",
       "      <td>7</td>\n",
       "      <td>2023-Sarangani-Batch 2-Cycle 1</td>\n",
       "      <td>91</td>\n",
       "      <td>NaN</td>\n",
       "      <td>598</td>\n",
       "      <td>NaN</td>\n",
       "      <td>2023-07-29 08:35:44.950</td>\n",
       "      <td>True</td>\n",
       "      <td>14</td>\n",
       "      <td>NaN</td>\n",
       "    </tr>\n",
       "    <tr>\n",
       "      <th>363</th>\n",
       "      <td>7</td>\n",
       "      <td>2023-Sarangani-Batch 2-Cycle 1</td>\n",
       "      <td>117</td>\n",
       "      <td>NaN</td>\n",
       "      <td>599</td>\n",
       "      <td>NaN</td>\n",
       "      <td>2023-08-01 02:54:56.110</td>\n",
       "      <td>True</td>\n",
       "      <td>14</td>\n",
       "      <td>NaN</td>\n",
       "    </tr>\n",
       "    <tr>\n",
       "      <th>364</th>\n",
       "      <td>7</td>\n",
       "      <td>2023-Sarangani-Batch 2-Cycle 1</td>\n",
       "      <td>113</td>\n",
       "      <td>NaN</td>\n",
       "      <td>600</td>\n",
       "      <td>NaN</td>\n",
       "      <td>2023-07-26 01:53:13.420</td>\n",
       "      <td>True</td>\n",
       "      <td>14</td>\n",
       "      <td>NaN</td>\n",
       "    </tr>\n",
       "    <tr>\n",
       "      <th>365</th>\n",
       "      <td>7</td>\n",
       "      <td>2023-Sarangani-Batch 2-Cycle 1</td>\n",
       "      <td>136</td>\n",
       "      <td>NaN</td>\n",
       "      <td>601</td>\n",
       "      <td>NaN</td>\n",
       "      <td>2023-07-26 01:46:43.653</td>\n",
       "      <td>True</td>\n",
       "      <td>14</td>\n",
       "      <td>NaN</td>\n",
       "    </tr>\n",
       "  </tbody>\n",
       "</table>\n",
       "<p>366 rows × 10 columns</p>\n",
       "</div>"
      ],
      "text/plain": [
       "     AcademicYearId                    AcademicYear  SchoolId  SchoolName  \\\n",
       "0                 6  2023-Sarangani-Batch 1-Cycle 1        70         NaN   \n",
       "1                 6  2023-Sarangani-Batch 1-Cycle 1        70         NaN   \n",
       "2                 6  2023-Sarangani-Batch 1-Cycle 1        70         NaN   \n",
       "3                 6  2023-Sarangani-Batch 1-Cycle 1        70         NaN   \n",
       "4                 6  2023-Sarangani-Batch 1-Cycle 1        56         NaN   \n",
       "..              ...                             ...       ...         ...   \n",
       "361               7  2023-Sarangani-Batch 2-Cycle 1       129         NaN   \n",
       "362               7  2023-Sarangani-Batch 2-Cycle 1        91         NaN   \n",
       "363               7  2023-Sarangani-Batch 2-Cycle 1       117         NaN   \n",
       "364               7  2023-Sarangani-Batch 2-Cycle 1       113         NaN   \n",
       "365               7  2023-Sarangani-Batch 2-Cycle 1       136         NaN   \n",
       "\n",
       "     ClassID  ClassName               CreatedOn  IsActive  GradeId  District  \n",
       "0        333        NaN 2023-02-05 06:43:09.493      True        4       NaN  \n",
       "1        419        NaN 2023-04-08 13:31:48.103      True        4       NaN  \n",
       "2        480        NaN 2023-04-14 06:50:20.673      True        4       NaN  \n",
       "3        495        NaN 2023-04-14 07:04:33.266     False        4       NaN  \n",
       "4        457        NaN 2023-04-09 01:24:56.263      True        4       NaN  \n",
       "..       ...        ...                     ...       ...      ...       ...  \n",
       "361      597        NaN 2023-07-27 09:02:09.310      True       14       NaN  \n",
       "362      598        NaN 2023-07-29 08:35:44.950      True       14       NaN  \n",
       "363      599        NaN 2023-08-01 02:54:56.110      True       14       NaN  \n",
       "364      600        NaN 2023-07-26 01:53:13.420      True       14       NaN  \n",
       "365      601        NaN 2023-07-26 01:46:43.653      True       14       NaN  \n",
       "\n",
       "[366 rows x 10 columns]"
      ]
     },
     "execution_count": 11,
     "metadata": {},
     "output_type": "execute_result"
    }
   ],
   "source": [
    "def decrypt_and_read_excel(file_path, password, sheet_name):\n",
    "    # Open the encrypted Excel file\n",
    "    with open(file_path, 'rb') as file:\n",
    "        decrypted_file = open('decrypted_file.xlsx', 'wb')\n",
    "        office_file = msoffcrypto.OfficeFile(file)\n",
    "        # Use the provided password to unlock\n",
    "        office_file.load_key(password=password)\n",
    "        # Decrypt and save to a temporary file\n",
    "        office_file.decrypt(decrypted_file)\n",
    "        decrypted_file.close()\n",
    "\n",
    "    # Now use pandas to read the specific sheet from the decrypted file\n",
    "    return pd.read_excel('decrypted_file.xlsx', sheet_name=sheet_name)\n",
    "\n",
    "# Replace with your actual file, password, and sheet name\n",
    "file_path = \"../../CuC Sample Data - 2024 06 13.xlsx\"\n",
    "password = \"cuc_2024\"\n",
    "sheet_name = \"classes\"\n",
    "\n",
    "# Call the function to decrypt and read the 'classes' sheet\n",
    "df = decrypt_and_read_excel(file_path, password, sheet_name)\n",
    "\n",
    "df.to_csv('classes.csv')\n",
    "df\n"
   ]
  },
  {
   "cell_type": "code",
   "execution_count": 12,
   "metadata": {},
   "outputs": [
    {
     "name": "stdout",
     "output_type": "stream",
     "text": [
      "<class 'pandas.core.frame.DataFrame'>\n",
      "RangeIndex: 366 entries, 0 to 365\n",
      "Data columns (total 10 columns):\n",
      " #   Column          Non-Null Count  Dtype         \n",
      "---  ------          --------------  -----         \n",
      " 0   AcademicYearId  366 non-null    int64         \n",
      " 1   AcademicYear    366 non-null    object        \n",
      " 2   SchoolId        366 non-null    int64         \n",
      " 3   SchoolName      0 non-null      float64       \n",
      " 4   ClassID         366 non-null    int64         \n",
      " 5   ClassName       0 non-null      float64       \n",
      " 6   CreatedOn       366 non-null    datetime64[ns]\n",
      " 7   IsActive        366 non-null    bool          \n",
      " 8   GradeId         366 non-null    int64         \n",
      " 9   District        0 non-null      float64       \n",
      "dtypes: bool(1), datetime64[ns](1), float64(3), int64(4), object(1)\n",
      "memory usage: 26.2+ KB\n"
     ]
    }
   ],
   "source": [
    "df.info()"
   ]
  },
  {
   "cell_type": "code",
   "execution_count": 13,
   "metadata": {},
   "outputs": [
    {
     "name": "stdout",
     "output_type": "stream",
     "text": [
      "[6 7] ['2023-Sarangani-Batch 1-Cycle 1' '2023-Sarangani-Batch 2-Cycle 1']\n"
     ]
    },
    {
     "data": {
      "text/html": [
       "<div>\n",
       "<style scoped>\n",
       "    .dataframe tbody tr th:only-of-type {\n",
       "        vertical-align: middle;\n",
       "    }\n",
       "\n",
       "    .dataframe tbody tr th {\n",
       "        vertical-align: top;\n",
       "    }\n",
       "\n",
       "    .dataframe thead th {\n",
       "        text-align: right;\n",
       "    }\n",
       "</style>\n",
       "<table border=\"1\" class=\"dataframe\">\n",
       "  <thead>\n",
       "    <tr style=\"text-align: right;\">\n",
       "      <th></th>\n",
       "      <th></th>\n",
       "      <th>SchoolId</th>\n",
       "    </tr>\n",
       "    <tr>\n",
       "      <th>AcademicYearId</th>\n",
       "      <th>AcademicYear</th>\n",
       "      <th></th>\n",
       "    </tr>\n",
       "  </thead>\n",
       "  <tbody>\n",
       "    <tr>\n",
       "      <th>6</th>\n",
       "      <th>2023-Sarangani-Batch 1-Cycle 1</th>\n",
       "      <td>312</td>\n",
       "    </tr>\n",
       "    <tr>\n",
       "      <th>7</th>\n",
       "      <th>2023-Sarangani-Batch 2-Cycle 1</th>\n",
       "      <td>54</td>\n",
       "    </tr>\n",
       "  </tbody>\n",
       "</table>\n",
       "</div>"
      ],
      "text/plain": [
       "                                               SchoolId\n",
       "AcademicYearId AcademicYear                            \n",
       "6              2023-Sarangani-Batch 1-Cycle 1       312\n",
       "7              2023-Sarangani-Batch 2-Cycle 1        54"
      ]
     },
     "metadata": {},
     "output_type": "display_data"
    }
   ],
   "source": [
    "print(df.AcademicYearId.unique(), df.AcademicYear.unique())\n",
    "\n",
    "display(df.iloc[:, :3].groupby(['AcademicYearId','AcademicYear']).count())"
   ]
  },
  {
   "cell_type": "code",
   "execution_count": 14,
   "metadata": {},
   "outputs": [
    {
     "data": {
      "image/png": "[encoded data removed]",
      "text/plain": [
       "<Figure size 640x480 with 1 Axes>"
      ]
     },
     "metadata": {},
     "output_type": "display_data"
    },
    {
     "name": "stdout",
     "output_type": "stream",
     "text": [
      "101\n",
      "[ 70  56  78  71  54  93  49  64  48  92 101  73  60  44  96  67  86  85\n",
      "  63  57  94  82  62  84  97  77  88  52  50  80  43  58 108  66  90 104\n",
      "  65  72  46  59  69  47  81  68 103  99 107 102  61 100 139  53 119  75\n",
      " 132  55 140 133 141 126  89 142 121 143 135  74 124 114 116 134 123 144\n",
      " 130 127 112  87 111 145  98 150 122 146 147 138 151 131 120 137 128 148\n",
      " 115 125 149  95 118  83 129  91 117 113 136]\n"
     ]
    }
   ],
   "source": [
    "fig, ax = plt.subplots()\n",
    "ax.hist(df.SchoolId)\n",
    "ax.set(title='Distribution of SchoolId')\n",
    "plt.show()\n",
    "\n",
    "print(df.SchoolId.nunique())\n",
    "print(df.SchoolId.unique())"
   ]
  },
  {
   "cell_type": "code",
   "execution_count": 15,
   "metadata": {},
   "outputs": [
    {
     "data": {
      "image/png": "[encoded data removed]",
      "text/plain": [
       "<Figure size 640x480 with 1 Axes>"
      ]
     },
     "metadata": {},
     "output_type": "display_data"
    },
    {
     "name": "stdout",
     "output_type": "stream",
     "text": [
      "366\n"
     ]
    }
   ],
   "source": [
    "fig, ax = plt.subplots()\n",
    "ax.hist(df.ClassID)\n",
    "ax.set(title='Distribution of ClassID')\n",
    "plt.show()\n",
    "\n",
    "print(df.ClassID.nunique())\n",
    "# print(df.ClassID.unique())"
   ]
  },
  {
   "cell_type": "code",
   "execution_count": 16,
   "metadata": {},
   "outputs": [
    {
     "data": {
      "text/plain": [
       "366"
      ]
     },
     "execution_count": 16,
     "metadata": {},
     "output_type": "execute_result"
    }
   ],
   "source": [
    "df.CreatedOn.nunique()"
   ]
  },
  {
   "cell_type": "code",
   "execution_count": 17,
   "metadata": {},
   "outputs": [
    {
     "data": {
      "text/plain": [
       "IsActive\n",
       "True     356\n",
       "False     10\n",
       "Name: count, dtype: int64"
      ]
     },
     "execution_count": 17,
     "metadata": {},
     "output_type": "execute_result"
    }
   ],
   "source": [
    "df.IsActive.value_counts()"
   ]
  },
  {
   "cell_type": "code",
   "execution_count": 18,
   "metadata": {},
   "outputs": [
    {
     "data": {
      "text/html": [
       "<div>\n",
       "<style scoped>\n",
       "    .dataframe tbody tr th:only-of-type {\n",
       "        vertical-align: middle;\n",
       "    }\n",
       "\n",
       "    .dataframe tbody tr th {\n",
       "        vertical-align: top;\n",
       "    }\n",
       "\n",
       "    .dataframe thead th {\n",
       "        text-align: right;\n",
       "    }\n",
       "</style>\n",
       "<table border=\"1\" class=\"dataframe\">\n",
       "  <thead>\n",
       "    <tr style=\"text-align: right;\">\n",
       "      <th></th>\n",
       "      <th>AcademicYearId</th>\n",
       "      <th>AcademicYear</th>\n",
       "      <th>SchoolId</th>\n",
       "      <th>SchoolName</th>\n",
       "      <th>ClassID</th>\n",
       "      <th>ClassName</th>\n",
       "      <th>CreatedOn</th>\n",
       "      <th>IsActive</th>\n",
       "      <th>GradeId</th>\n",
       "      <th>District</th>\n",
       "    </tr>\n",
       "  </thead>\n",
       "  <tbody>\n",
       "    <tr>\n",
       "      <th>3</th>\n",
       "      <td>6</td>\n",
       "      <td>2023-Sarangani-Batch 1-Cycle 1</td>\n",
       "      <td>70</td>\n",
       "      <td>NaN</td>\n",
       "      <td>495</td>\n",
       "      <td>NaN</td>\n",
       "      <td>2023-04-14 07:04:33.266</td>\n",
       "      <td>False</td>\n",
       "      <td>4</td>\n",
       "      <td>NaN</td>\n",
       "    </tr>\n",
       "    <tr>\n",
       "      <th>97</th>\n",
       "      <td>6</td>\n",
       "      <td>2023-Sarangani-Batch 1-Cycle 1</td>\n",
       "      <td>58</td>\n",
       "      <td>NaN</td>\n",
       "      <td>513</td>\n",
       "      <td>NaN</td>\n",
       "      <td>2023-04-14 07:21:55.506</td>\n",
       "      <td>False</td>\n",
       "      <td>4</td>\n",
       "      <td>NaN</td>\n",
       "    </tr>\n",
       "    <tr>\n",
       "      <th>155</th>\n",
       "      <td>6</td>\n",
       "      <td>2023-Sarangani-Batch 1-Cycle 1</td>\n",
       "      <td>70</td>\n",
       "      <td>NaN</td>\n",
       "      <td>303</td>\n",
       "      <td>NaN</td>\n",
       "      <td>2023-02-04 12:33:58.136</td>\n",
       "      <td>False</td>\n",
       "      <td>1</td>\n",
       "      <td>NaN</td>\n",
       "    </tr>\n",
       "    <tr>\n",
       "      <th>156</th>\n",
       "      <td>6</td>\n",
       "      <td>2023-Sarangani-Batch 1-Cycle 1</td>\n",
       "      <td>70</td>\n",
       "      <td>NaN</td>\n",
       "      <td>304</td>\n",
       "      <td>NaN</td>\n",
       "      <td>2023-02-04 12:34:08.936</td>\n",
       "      <td>False</td>\n",
       "      <td>1</td>\n",
       "      <td>NaN</td>\n",
       "    </tr>\n",
       "    <tr>\n",
       "      <th>179</th>\n",
       "      <td>6</td>\n",
       "      <td>2023-Sarangani-Batch 1-Cycle 1</td>\n",
       "      <td>64</td>\n",
       "      <td>NaN</td>\n",
       "      <td>482</td>\n",
       "      <td>NaN</td>\n",
       "      <td>2023-04-14 06:56:32.120</td>\n",
       "      <td>False</td>\n",
       "      <td>1</td>\n",
       "      <td>NaN</td>\n",
       "    </tr>\n",
       "    <tr>\n",
       "      <th>183</th>\n",
       "      <td>6</td>\n",
       "      <td>2023-Sarangani-Batch 1-Cycle 1</td>\n",
       "      <td>48</td>\n",
       "      <td>NaN</td>\n",
       "      <td>486</td>\n",
       "      <td>NaN</td>\n",
       "      <td>2023-04-14 06:59:26.376</td>\n",
       "      <td>False</td>\n",
       "      <td>1</td>\n",
       "      <td>NaN</td>\n",
       "    </tr>\n",
       "    <tr>\n",
       "      <th>201</th>\n",
       "      <td>6</td>\n",
       "      <td>2023-Sarangani-Batch 1-Cycle 1</td>\n",
       "      <td>44</td>\n",
       "      <td>NaN</td>\n",
       "      <td>397</td>\n",
       "      <td>NaN</td>\n",
       "      <td>2023-04-08 06:48:06.430</td>\n",
       "      <td>False</td>\n",
       "      <td>1</td>\n",
       "      <td>NaN</td>\n",
       "    </tr>\n",
       "    <tr>\n",
       "      <th>337</th>\n",
       "      <td>7</td>\n",
       "      <td>2023-Sarangani-Batch 2-Cycle 1</td>\n",
       "      <td>87</td>\n",
       "      <td>NaN</td>\n",
       "      <td>577</td>\n",
       "      <td>NaN</td>\n",
       "      <td>2023-05-07 03:02:26.413</td>\n",
       "      <td>False</td>\n",
       "      <td>14</td>\n",
       "      <td>NaN</td>\n",
       "    </tr>\n",
       "    <tr>\n",
       "      <th>356</th>\n",
       "      <td>7</td>\n",
       "      <td>2023-Sarangani-Batch 2-Cycle 1</td>\n",
       "      <td>95</td>\n",
       "      <td>NaN</td>\n",
       "      <td>291</td>\n",
       "      <td>NaN</td>\n",
       "      <td>2023-01-05 08:56:49.630</td>\n",
       "      <td>False</td>\n",
       "      <td>1</td>\n",
       "      <td>NaN</td>\n",
       "    </tr>\n",
       "    <tr>\n",
       "      <th>357</th>\n",
       "      <td>7</td>\n",
       "      <td>2023-Sarangani-Batch 2-Cycle 1</td>\n",
       "      <td>95</td>\n",
       "      <td>NaN</td>\n",
       "      <td>292</td>\n",
       "      <td>NaN</td>\n",
       "      <td>2023-01-05 08:57:03.470</td>\n",
       "      <td>False</td>\n",
       "      <td>2</td>\n",
       "      <td>NaN</td>\n",
       "    </tr>\n",
       "  </tbody>\n",
       "</table>\n",
       "</div>"
      ],
      "text/plain": [
       "     AcademicYearId                    AcademicYear  SchoolId  SchoolName  \\\n",
       "3                 6  2023-Sarangani-Batch 1-Cycle 1        70         NaN   \n",
       "97                6  2023-Sarangani-Batch 1-Cycle 1        58         NaN   \n",
       "155               6  2023-Sarangani-Batch 1-Cycle 1        70         NaN   \n",
       "156               6  2023-Sarangani-Batch 1-Cycle 1        70         NaN   \n",
       "179               6  2023-Sarangani-Batch 1-Cycle 1        64         NaN   \n",
       "183               6  2023-Sarangani-Batch 1-Cycle 1        48         NaN   \n",
       "201               6  2023-Sarangani-Batch 1-Cycle 1        44         NaN   \n",
       "337               7  2023-Sarangani-Batch 2-Cycle 1        87         NaN   \n",
       "356               7  2023-Sarangani-Batch 2-Cycle 1        95         NaN   \n",
       "357               7  2023-Sarangani-Batch 2-Cycle 1        95         NaN   \n",
       "\n",
       "     ClassID  ClassName               CreatedOn  IsActive  GradeId  District  \n",
       "3        495        NaN 2023-04-14 07:04:33.266     False        4       NaN  \n",
       "97       513        NaN 2023-04-14 07:21:55.506     False        4       NaN  \n",
       "155      303        NaN 2023-02-04 12:33:58.136     False        1       NaN  \n",
       "156      304        NaN 2023-02-04 12:34:08.936     False        1       NaN  \n",
       "179      482        NaN 2023-04-14 06:56:32.120     False        1       NaN  \n",
       "183      486        NaN 2023-04-14 06:59:26.376     False        1       NaN  \n",
       "201      397        NaN 2023-04-08 06:48:06.430     False        1       NaN  \n",
       "337      577        NaN 2023-05-07 03:02:26.413     False       14       NaN  \n",
       "356      291        NaN 2023-01-05 08:56:49.630     False        1       NaN  \n",
       "357      292        NaN 2023-01-05 08:57:03.470     False        2       NaN  "
      ]
     },
     "execution_count": 18,
     "metadata": {},
     "output_type": "execute_result"
    }
   ],
   "source": [
    "df[df.IsActive == False]"
   ]
  },
  {
   "cell_type": "code",
   "execution_count": 19,
   "metadata": {},
   "outputs": [
    {
     "data": {
      "text/html": [
       "<div>\n",
       "<style scoped>\n",
       "    .dataframe tbody tr th:only-of-type {\n",
       "        vertical-align: middle;\n",
       "    }\n",
       "\n",
       "    .dataframe tbody tr th {\n",
       "        vertical-align: top;\n",
       "    }\n",
       "\n",
       "    .dataframe thead th {\n",
       "        text-align: right;\n",
       "    }\n",
       "</style>\n",
       "<table border=\"1\" class=\"dataframe\">\n",
       "  <thead>\n",
       "    <tr style=\"text-align: right;\">\n",
       "      <th></th>\n",
       "      <th>IsActive</th>\n",
       "    </tr>\n",
       "    <tr>\n",
       "      <th>AcademicYear</th>\n",
       "      <th></th>\n",
       "    </tr>\n",
       "  </thead>\n",
       "  <tbody>\n",
       "    <tr>\n",
       "      <th>2023-Sarangani-Batch 1-Cycle 1</th>\n",
       "      <td>0.977564</td>\n",
       "    </tr>\n",
       "    <tr>\n",
       "      <th>2023-Sarangani-Batch 2-Cycle 1</th>\n",
       "      <td>0.944444</td>\n",
       "    </tr>\n",
       "  </tbody>\n",
       "</table>\n",
       "</div>"
      ],
      "text/plain": [
       "                                IsActive\n",
       "AcademicYear                            \n",
       "2023-Sarangani-Batch 1-Cycle 1  0.977564\n",
       "2023-Sarangani-Batch 2-Cycle 1  0.944444"
      ]
     },
     "execution_count": 19,
     "metadata": {},
     "output_type": "execute_result"
    }
   ],
   "source": [
    "df.loc[:, ['AcademicYear', 'IsActive']].groupby(['AcademicYear']).sum()/df.loc[:, ['AcademicYear', 'IsActive']].groupby(['AcademicYear']).count()"
   ]
  },
  {
   "cell_type": "code",
   "execution_count": 62,
   "metadata": {},
   "outputs": [
    {
     "data": {
      "image/png": "[encoded data removed]",
      "text/plain": [
       "<Figure size 1200x600 with 2 Axes>"
      ]
     },
     "metadata": {},
     "output_type": "display_data"
    }
   ],
   "source": [
    "class_counts = df.groupby(['AcademicYear', 'IsActive']).size().unstack(fill_value=0)\n",
    "\n",
    "\n",
    "num_years = len(class_counts.index)  # Number of unique academic years\n",
    "fig, axes = plt.subplots(1, num_years, figsize=(6*num_years, 6))  # Adjust width for the number of years\n",
    "\n",
    "for i, year in enumerate(class_counts.index):\n",
    "    sizes = class_counts.loc[year]\n",
    "    labels = ['Inactive', 'Active',]\n",
    "    colors = ['#66b3ff', '#ff9999']\n",
    "    \n",
    "    # Plot pie chart in the corresponding subplot\n",
    "    axes[i].pie(sizes, labels=labels, autopct='%1.1f%%', startangle=90)\n",
    "    axes[i].axis('equal')  # Equal aspect ratio for a perfect circle\n",
    "    axes[i].set_title(f'{year}')  # Set the title for each pie chart\n",
    "\n",
    "# Set the main title\n",
    "fig.suptitle('Active vs Inactive Classes by Academic Year', fontsize=16)\n",
    "\n",
    "# Adjust layout\n",
    "plt.tight_layout()\n",
    "\n",
    "# Show the plot\n",
    "plt.show()\n"
   ]
  },
  {
   "cell_type": "code",
   "execution_count": 11,
   "metadata": {},
   "outputs": [
    {
     "data": {
      "text/html": [
       "<div>\n",
       "<style scoped>\n",
       "    .dataframe tbody tr th:only-of-type {\n",
       "        vertical-align: middle;\n",
       "    }\n",
       "\n",
       "    .dataframe tbody tr th {\n",
       "        vertical-align: top;\n",
       "    }\n",
       "\n",
       "    .dataframe thead th {\n",
       "        text-align: right;\n",
       "    }\n",
       "</style>\n",
       "<table border=\"1\" class=\"dataframe\">\n",
       "  <thead>\n",
       "    <tr style=\"text-align: right;\">\n",
       "      <th></th>\n",
       "      <th>SchoolId</th>\n",
       "    </tr>\n",
       "    <tr>\n",
       "      <th>AcademicYear</th>\n",
       "      <th></th>\n",
       "    </tr>\n",
       "  </thead>\n",
       "  <tbody>\n",
       "    <tr>\n",
       "      <th>2023-Sarangani-Batch 1-Cycle 1</th>\n",
       "      <td>50</td>\n",
       "    </tr>\n",
       "    <tr>\n",
       "      <th>2023-Sarangani-Batch 2-Cycle 1</th>\n",
       "      <td>51</td>\n",
       "    </tr>\n",
       "  </tbody>\n",
       "</table>\n",
       "</div>"
      ],
      "text/plain": [
       "                                SchoolId\n",
       "AcademicYear                            \n",
       "2023-Sarangani-Batch 1-Cycle 1        50\n",
       "2023-Sarangani-Batch 2-Cycle 1        51"
      ]
     },
     "execution_count": 11,
     "metadata": {},
     "output_type": "execute_result"
    }
   ],
   "source": [
    "(df.loc[:, ['AcademicYear', 'SchoolId']]).drop_duplicates().groupby('AcademicYear').count()"
   ]
  },
  {
   "cell_type": "code",
   "execution_count": 12,
   "metadata": {},
   "outputs": [
    {
     "data": {
      "text/plain": [
       "GradeId\n",
       "4     152\n",
       "14     57\n",
       "1      56\n",
       "2      51\n",
       "3      50\n",
       "Name: count, dtype: int64"
      ]
     },
     "execution_count": 12,
     "metadata": {},
     "output_type": "execute_result"
    }
   ],
   "source": [
    "df.GradeId.value_counts()"
   ]
  },
  {
   "cell_type": "code",
   "execution_count": 13,
   "metadata": {},
   "outputs": [
    {
     "data": {
      "text/html": [
       "<div>\n",
       "<style scoped>\n",
       "    .dataframe tbody tr th:only-of-type {\n",
       "        vertical-align: middle;\n",
       "    }\n",
       "\n",
       "    .dataframe tbody tr th {\n",
       "        vertical-align: top;\n",
       "    }\n",
       "\n",
       "    .dataframe thead th {\n",
       "        text-align: right;\n",
       "    }\n",
       "</style>\n",
       "<table border=\"1\" class=\"dataframe\">\n",
       "  <thead>\n",
       "    <tr style=\"text-align: right;\">\n",
       "      <th></th>\n",
       "      <th>GradeId</th>\n",
       "    </tr>\n",
       "    <tr>\n",
       "      <th>AcademicYear</th>\n",
       "      <th></th>\n",
       "    </tr>\n",
       "  </thead>\n",
       "  <tbody>\n",
       "    <tr>\n",
       "      <th>2023-Sarangani-Batch 1-Cycle 1</th>\n",
       "      <td>3.150641</td>\n",
       "    </tr>\n",
       "    <tr>\n",
       "      <th>2023-Sarangani-Batch 2-Cycle 1</th>\n",
       "      <td>13.537037</td>\n",
       "    </tr>\n",
       "  </tbody>\n",
       "</table>\n",
       "</div>"
      ],
      "text/plain": [
       "                                  GradeId\n",
       "AcademicYear                             \n",
       "2023-Sarangani-Batch 1-Cycle 1   3.150641\n",
       "2023-Sarangani-Batch 2-Cycle 1  13.537037"
      ]
     },
     "execution_count": 13,
     "metadata": {},
     "output_type": "execute_result"
    }
   ],
   "source": [
    "(df.loc[:, ['AcademicYear', 'GradeId']]).groupby('AcademicYear').mean()"
   ]
  },
  {
   "cell_type": "code",
   "execution_count": 14,
   "metadata": {},
   "outputs": [
    {
     "data": {
      "image/png": "[encoded data removed]",
      "text/plain": [
       "<Figure size 800x400 with 1 Axes>"
      ]
     },
     "metadata": {},
     "output_type": "display_data"
    }
   ],
   "source": [
    "avg_grade = df.groupby(['AcademicYear', 'IsActive'])['GradeId'].mean().reset_index()\n",
    "\n",
    "active_data = avg_grade[avg_grade['IsActive'] == True]\n",
    "inactive_data = avg_grade[avg_grade['IsActive'] == False]\n",
    "\n",
    "plt.figure(figsize=(8, 4))\n",
    "\n",
    "plt.bar(active_data['AcademicYear'], active_data['GradeId'], color='blue', label='Active', width=0.4, align='center')\n",
    "\n",
    "plt.bar(inactive_data['AcademicYear'], inactive_data['GradeId'], color='orange', label='Inactive', width=0.4, align='edge')\n",
    "\n",
    "plt.title('Average Grade per Academic Year (Active vs Inactive)')\n",
    "plt.xlabel('Academic Year')\n",
    "plt.ylabel('Average Grade')\n",
    "# plt.xticks(rotation=45)\n",
    "\n",
    "plt.legend()\n",
    "\n",
    "plt.tight_layout()\n",
    "plt.show()\n"
   ]
  },
  {
   "cell_type": "code",
   "execution_count": null,
   "metadata": {},
   "outputs": [],
   "source": []
  },
  {
   "cell_type": "code",
   "execution_count": null,
   "metadata": {},
   "outputs": [],
   "source": []
  }
 ],
 "metadata": {
  "kernelspec": {
   "display_name": "env",
   "language": "python",
   "name": "python3"
  },
  "language_info": {
   "codemirror_mode": {
    "name": "ipython",
    "version": 3
   },
   "file_extension": ".py",
   "mimetype": "text/x-python",
   "name": "python",
   "nbconvert_exporter": "python",
   "pygments_lexer": "ipython3",
   "version": "3.12.5"
  }
 },
 "nbformat": 4,
 "nbformat_minor": 2
}
