{
 "cells": [
  {
   "cell_type": "markdown",
   "id": "e1ba4910-f325-450e-8b19-5b43294ea694",
   "metadata": {},
   "source": [
    "Ideal Output & Deliverables\n",
    "\n",
    "The ideal output of this project will be:\n",
    "A dashboard that implements predictive models to find what helps/harms a student's progression through school. \n",
    "A final report answers the Base Question:\n",
    "What are the best predictors of student retention (i.e., the prevention of student dropouts)?\n",
    "\n",
    "https://docs.google.com/document/d/1XHfDhUMD1c868baqg_8Kk4j2PJzwHRX8Psf7PTKLgss/edit?tab=t.0"
   ]
  },
  {
   "cell_type": "code",
   "execution_count": 2,
   "id": "bdea72c2-740c-47d5-89d8-ac6d006af6d5",
   "metadata": {},
   "outputs": [],
   "source": [
    "import pandas as pd\n",
    "import numpy as np"
   ]
  },
  {
   "cell_type": "markdown",
   "id": "bb043344-cec3-42e1-acb8-87e93b63a9f1",
   "metadata": {},
   "source": [
    "# Nigeria Data"
   ]
  },
  {
   "cell_type": "markdown",
   "id": "f659990f-1132-4b21-8e54-51ed56dac847",
   "metadata": {},
   "source": [
    "### Loading in Data"
   ]
  },
  {
   "cell_type": "code",
   "execution_count": 5,
   "id": "2644b1c6-5847-4d03-9b32-8604fc9ce212",
   "metadata": {},
   "outputs": [
    {
     "data": {
      "text/html": [
       "<div>\n",
       "<style scoped>\n",
       "    .dataframe tbody tr th:only-of-type {\n",
       "        vertical-align: middle;\n",
       "    }\n",
       "\n",
       "    .dataframe tbody tr th {\n",
       "        vertical-align: top;\n",
       "    }\n",
       "\n",
       "    .dataframe thead th {\n",
       "        text-align: right;\n",
       "    }\n",
       "</style>\n",
       "<table border=\"1\" class=\"dataframe\">\n",
       "  <thead>\n",
       "    <tr style=\"text-align: right;\">\n",
       "      <th></th>\n",
       "      <th>GradeId</th>\n",
       "      <th>StudentIsPresent</th>\n",
       "      <th>ReasonType</th>\n",
       "      <th>StudentAbsenseReason</th>\n",
       "      <th>StudentAttendanceDate</th>\n",
       "      <th>ClassID</th>\n",
       "      <th>ChildrenId</th>\n",
       "      <th>SchoolId</th>\n",
       "      <th>AcademicYearId</th>\n",
       "      <th>AcademicYearName</th>\n",
       "      <th>Year</th>\n",
       "      <th>Project</th>\n",
       "      <th>Gender</th>\n",
       "      <th>RecordId</th>\n",
       "      <th>AcademicYearStartDate</th>\n",
       "      <th>AcademicYearEndtDate</th>\n",
       "      <th>SubjectId</th>\n",
       "      <th>SubjectName</th>\n",
       "      <th>Cycle</th>\n",
       "    </tr>\n",
       "  </thead>\n",
       "  <tbody>\n",
       "    <tr>\n",
       "      <th>0</th>\n",
       "      <td>12</td>\n",
       "      <td>True</td>\n",
       "      <td>NaN</td>\n",
       "      <td>NaN</td>\n",
       "      <td>Friday, August 18, 2023</td>\n",
       "      <td>421</td>\n",
       "      <td>8512</td>\n",
       "      <td>130</td>\n",
       "      <td>7.0</td>\n",
       "      <td>2023-CuC-Cycle1</td>\n",
       "      <td>2023.0</td>\n",
       "      <td>CuC</td>\n",
       "      <td>Female</td>\n",
       "      <td>27060</td>\n",
       "      <td>2023-07-10</td>\n",
       "      <td>2024-04-30</td>\n",
       "      <td>6</td>\n",
       "      <td>CuC</td>\n",
       "      <td>Cycle1</td>\n",
       "    </tr>\n",
       "    <tr>\n",
       "      <th>1</th>\n",
       "      <td>12</td>\n",
       "      <td>True</td>\n",
       "      <td>NaN</td>\n",
       "      <td>NaN</td>\n",
       "      <td>Friday, August 18, 2023</td>\n",
       "      <td>421</td>\n",
       "      <td>2741</td>\n",
       "      <td>130</td>\n",
       "      <td>7.0</td>\n",
       "      <td>2023-CuC-Cycle1</td>\n",
       "      <td>2023.0</td>\n",
       "      <td>CuC</td>\n",
       "      <td>Male</td>\n",
       "      <td>27061</td>\n",
       "      <td>2023-07-10</td>\n",
       "      <td>2024-04-30</td>\n",
       "      <td>6</td>\n",
       "      <td>CuC</td>\n",
       "      <td>Cycle1</td>\n",
       "    </tr>\n",
       "    <tr>\n",
       "      <th>2</th>\n",
       "      <td>12</td>\n",
       "      <td>True</td>\n",
       "      <td>NaN</td>\n",
       "      <td>NaN</td>\n",
       "      <td>Friday, August 18, 2023</td>\n",
       "      <td>421</td>\n",
       "      <td>2745</td>\n",
       "      <td>130</td>\n",
       "      <td>7.0</td>\n",
       "      <td>2023-CuC-Cycle1</td>\n",
       "      <td>2023.0</td>\n",
       "      <td>CuC</td>\n",
       "      <td>Male</td>\n",
       "      <td>27062</td>\n",
       "      <td>2023-07-10</td>\n",
       "      <td>2024-04-30</td>\n",
       "      <td>6</td>\n",
       "      <td>CuC</td>\n",
       "      <td>Cycle1</td>\n",
       "    </tr>\n",
       "    <tr>\n",
       "      <th>3</th>\n",
       "      <td>12</td>\n",
       "      <td>True</td>\n",
       "      <td>NaN</td>\n",
       "      <td>NaN</td>\n",
       "      <td>Friday, August 18, 2023</td>\n",
       "      <td>421</td>\n",
       "      <td>2795</td>\n",
       "      <td>130</td>\n",
       "      <td>7.0</td>\n",
       "      <td>2023-CuC-Cycle1</td>\n",
       "      <td>2023.0</td>\n",
       "      <td>CuC</td>\n",
       "      <td>Male</td>\n",
       "      <td>27063</td>\n",
       "      <td>2023-07-10</td>\n",
       "      <td>2024-04-30</td>\n",
       "      <td>6</td>\n",
       "      <td>CuC</td>\n",
       "      <td>Cycle1</td>\n",
       "    </tr>\n",
       "    <tr>\n",
       "      <th>4</th>\n",
       "      <td>12</td>\n",
       "      <td>True</td>\n",
       "      <td>NaN</td>\n",
       "      <td>NaN</td>\n",
       "      <td>Friday, August 18, 2023</td>\n",
       "      <td>421</td>\n",
       "      <td>8486</td>\n",
       "      <td>130</td>\n",
       "      <td>7.0</td>\n",
       "      <td>2023-CuC-Cycle1</td>\n",
       "      <td>2023.0</td>\n",
       "      <td>CuC</td>\n",
       "      <td>Female</td>\n",
       "      <td>27064</td>\n",
       "      <td>2023-07-10</td>\n",
       "      <td>2024-04-30</td>\n",
       "      <td>6</td>\n",
       "      <td>CuC</td>\n",
       "      <td>Cycle1</td>\n",
       "    </tr>\n",
       "  </tbody>\n",
       "</table>\n",
       "</div>"
      ],
      "text/plain": [
       "   GradeId  StudentIsPresent ReasonType StudentAbsenseReason  \\\n",
       "0       12              True        NaN                  NaN   \n",
       "1       12              True        NaN                  NaN   \n",
       "2       12              True        NaN                  NaN   \n",
       "3       12              True        NaN                  NaN   \n",
       "4       12              True        NaN                  NaN   \n",
       "\n",
       "     StudentAttendanceDate  ClassID  ChildrenId  SchoolId  AcademicYearId  \\\n",
       "0  Friday, August 18, 2023      421        8512       130             7.0   \n",
       "1  Friday, August 18, 2023      421        2741       130             7.0   \n",
       "2  Friday, August 18, 2023      421        2745       130             7.0   \n",
       "3  Friday, August 18, 2023      421        2795       130             7.0   \n",
       "4  Friday, August 18, 2023      421        8486       130             7.0   \n",
       "\n",
       "  AcademicYearName    Year Project  Gender  RecordId AcademicYearStartDate  \\\n",
       "0  2023-CuC-Cycle1  2023.0     CuC  Female     27060            2023-07-10   \n",
       "1  2023-CuC-Cycle1  2023.0     CuC    Male     27061            2023-07-10   \n",
       "2  2023-CuC-Cycle1  2023.0     CuC    Male     27062            2023-07-10   \n",
       "3  2023-CuC-Cycle1  2023.0     CuC    Male     27063            2023-07-10   \n",
       "4  2023-CuC-Cycle1  2023.0     CuC  Female     27064            2023-07-10   \n",
       "\n",
       "  AcademicYearEndtDate  SubjectId SubjectName   Cycle  \n",
       "0           2024-04-30          6         CuC  Cycle1  \n",
       "1           2024-04-30          6         CuC  Cycle1  \n",
       "2           2024-04-30          6         CuC  Cycle1  \n",
       "3           2024-04-30          6         CuC  Cycle1  \n",
       "4           2024-04-30          6         CuC  Cycle1  "
      ]
     },
     "execution_count": 5,
     "metadata": {},
     "output_type": "execute_result"
    }
   ],
   "source": [
    "df_Nigeria = pd.read_excel(\"/Users/matthewmaslow/Desktop//ds-save-the-children/Retention_Nigeria/Nigeria CuC Data - 2024 10 08.xlsx\",\n",
    "                                  sheet_name=\"_fact_student_attendance\")\n",
    "# supplementary dataset set only currently has literacy info, so not necessary to merge\n",
    "df_Nigeria.head()"
   ]
  },
  {
   "cell_type": "code",
   "execution_count": 6,
   "id": "542cc6cb-0739-4eb2-a2a4-ec36b9f686b9",
   "metadata": {},
   "outputs": [
    {
     "name": "stdout",
     "output_type": "stream",
     "text": [
      "<class 'pandas.core.frame.DataFrame'>\n",
      "RangeIndex: 271773 entries, 0 to 271772\n",
      "Data columns (total 19 columns):\n",
      " #   Column                 Non-Null Count   Dtype         \n",
      "---  ------                 --------------   -----         \n",
      " 0   GradeId                271773 non-null  int64         \n",
      " 1   StudentIsPresent       271773 non-null  bool          \n",
      " 2   ReasonType             76182 non-null   object        \n",
      " 3   StudentAbsenseReason   76182 non-null   object        \n",
      " 4   StudentAttendanceDate  271773 non-null  object        \n",
      " 5   ClassID                271773 non-null  int64         \n",
      " 6   ChildrenId             271773 non-null  int64         \n",
      " 7   SchoolId               271773 non-null  int64         \n",
      " 8   AcademicYearId         228578 non-null  float64       \n",
      " 9   AcademicYearName       228578 non-null  object        \n",
      " 10  Year                   228578 non-null  float64       \n",
      " 11  Project                228578 non-null  object        \n",
      " 12  Gender                 271773 non-null  object        \n",
      " 13  RecordId               271773 non-null  int64         \n",
      " 14  AcademicYearStartDate  228578 non-null  datetime64[ns]\n",
      " 15  AcademicYearEndtDate   228578 non-null  datetime64[ns]\n",
      " 16  SubjectId              271773 non-null  int64         \n",
      " 17  SubjectName            271773 non-null  object        \n",
      " 18  Cycle                  228578 non-null  object        \n",
      "dtypes: bool(1), datetime64[ns](2), float64(2), int64(6), object(8)\n",
      "memory usage: 37.6+ MB\n"
     ]
    }
   ],
   "source": [
    "df_Nigeria.info()"
   ]
  },
  {
   "cell_type": "markdown",
   "id": "592dd425-9cf9-41b7-aeb0-44046ac169e3",
   "metadata": {},
   "source": [
    "### Data Prep"
   ]
  },
  {
   "cell_type": "code",
   "execution_count": 8,
   "id": "0db0f969-e1bd-4599-a50e-afe843511c06",
   "metadata": {},
   "outputs": [
    {
     "name": "stdout",
     "output_type": "stream",
     "text": [
      "<class 'pandas.core.frame.DataFrame'>\n",
      "RangeIndex: 271773 entries, 0 to 271772\n",
      "Data columns (total 17 columns):\n",
      " #   Column                 Non-Null Count   Dtype  \n",
      "---  ------                 --------------   -----  \n",
      " 0   GradeId                271773 non-null  int64  \n",
      " 1   StudentIsPresent       271773 non-null  int64  \n",
      " 2   ReasonType             76182 non-null   object \n",
      " 3   StudentAbsenseReason   76182 non-null   object \n",
      " 4   StudentAttendanceDate  271773 non-null  object \n",
      " 5   ClassID                271773 non-null  int64  \n",
      " 6   ChildrenId             271773 non-null  int64  \n",
      " 7   SchoolId               271773 non-null  int64  \n",
      " 8   AcademicYearId         228578 non-null  float64\n",
      " 9   AcademicYearName       228578 non-null  object \n",
      " 10  Year                   228578 non-null  float64\n",
      " 11  Project                228578 non-null  object \n",
      " 12  Gender                 271773 non-null  object \n",
      " 13  RecordId               271773 non-null  int64  \n",
      " 14  SubjectId              271773 non-null  int64  \n",
      " 15  SubjectName            271773 non-null  object \n",
      " 16  Cycle                  228578 non-null  object \n",
      "dtypes: float64(2), int64(7), object(8)\n",
      "memory usage: 35.2+ MB\n"
     ]
    }
   ],
   "source": [
    "df_Nigeria['StudentIsPresent'] = df_Nigeria['StudentIsPresent'].astype(int)\n",
    "\n",
    "df_Nigeria = df_Nigeria.drop(df_Nigeria.select_dtypes(include=['datetime64[ns]']).columns, axis=1)\n",
    "\n",
    "df_Nigeria.info()"
   ]
  },
  {
   "cell_type": "markdown",
   "id": "7daf1e6f-5389-45a3-a04e-547255eea61c",
   "metadata": {},
   "source": [
    "### Model Training"
   ]
  },
  {
   "cell_type": "code",
   "execution_count": 10,
   "id": "6a76b3e5-015a-4c2a-8649-cfa38eef3d07",
   "metadata": {},
   "outputs": [
    {
     "data": {
      "text/plain": [
       "StudentIsPresent\n",
       "1    195591\n",
       "0     76182\n",
       "Name: count, dtype: int64"
      ]
     },
     "execution_count": 10,
     "metadata": {},
     "output_type": "execute_result"
    }
   ],
   "source": [
    "df_Nigeria['StudentIsPresent'].value_counts()"
   ]
  },
  {
   "cell_type": "code",
   "execution_count": 11,
   "id": "0cc54c41-ff8a-494d-b1e8-08d25342b505",
   "metadata": {},
   "outputs": [
    {
     "name": "stderr",
     "output_type": "stream",
     "text": [
      "/opt/anaconda3/lib/python3.12/site-packages/sklearn/preprocessing/_encoders.py:241: UserWarning: Found unknown categories in columns [5] during transform. These unknown categories will be encoded as all zeros\n",
      "  warnings.warn(\n"
     ]
    },
    {
     "name": "stdout",
     "output_type": "stream",
     "text": [
      "LogisticRegression....\n",
      "Validation Accuracy: 0.89\n",
      "Test Accuracy: 0.76\n",
      "Classification Report:\n",
      "              precision    recall  f1-score   support\n",
      "\n",
      "           0       0.57      0.65      0.61     15225\n",
      "           1       0.86      0.81      0.83     39130\n",
      "\n",
      "    accuracy                           0.76     54355\n",
      "   macro avg       0.71      0.73      0.72     54355\n",
      "weighted avg       0.78      0.76      0.77     54355\n",
      "\n"
     ]
    },
    {
     "data": {
      "image/png": "[encoded data removed]",
      "text/plain": [
       "<Figure size 640x480 with 2 Axes>"
      ]
     },
     "metadata": {},
     "output_type": "display_data"
    },
    {
     "name": "stdout",
     "output_type": "stream",
     "text": [
      "\n",
      "==================================================\n",
      "\n"
     ]
    },
    {
     "name": "stderr",
     "output_type": "stream",
     "text": [
      "/opt/anaconda3/lib/python3.12/site-packages/sklearn/preprocessing/_encoders.py:241: UserWarning: Found unknown categories in columns [5] during transform. These unknown categories will be encoded as all zeros\n",
      "  warnings.warn(\n"
     ]
    },
    {
     "name": "stdout",
     "output_type": "stream",
     "text": [
      "RandomForestClassifier....\n",
      "Validation Accuracy: 0.73\n",
      "Test Accuracy: 0.71\n",
      "Classification Report:\n",
      "              precision    recall  f1-score   support\n",
      "\n",
      "           0       0.48      0.48      0.48     15225\n",
      "           1       0.80      0.80      0.80     39130\n",
      "\n",
      "    accuracy                           0.71     54355\n",
      "   macro avg       0.64      0.64      0.64     54355\n",
      "weighted avg       0.71      0.71      0.71     54355\n",
      "\n"
     ]
    },
    {
     "data": {
      "image/png": "[encoded data removed]",
      "text/plain": [
       "<Figure size 640x480 with 2 Axes>"
      ]
     },
     "metadata": {},
     "output_type": "display_data"
    },
    {
     "name": "stdout",
     "output_type": "stream",
     "text": [
      "\n",
      "==================================================\n",
      "\n"
     ]
    }
   ],
   "source": [
    "from sklearn.pipeline import Pipeline\n",
    "from sklearn.model_selection import train_test_split\n",
    "from sklearn.linear_model import LogisticRegression\n",
    "from sklearn.ensemble import RandomForestClassifier\n",
    "from sklearn.neural_network import MLPClassifier\n",
    "from sklearn.metrics import classification_report, accuracy_score, confusion_matrix, ConfusionMatrixDisplay\n",
    "from sklearn.preprocessing import OneHotEncoder\n",
    "from sklearn.impute import SimpleImputer\n",
    "from sklearn.compose import make_column_transformer\n",
    "from imblearn.pipeline import Pipeline as ImbPipeline\n",
    "from imblearn.under_sampling import RandomUnderSampler\n",
    "\n",
    "predictors = [\n",
    "    \"ReasonType\",\n",
    "    \"StudentAbsenseReason\",\n",
    "    \"StudentAttendanceDate\",\n",
    "    \"ChildrenId\",\n",
    "    \"AcademicYearId\",\n",
    "    \"RecordId\"\n",
    "]\n",
    "\n",
    "df_Nigeria_pred = df_Nigeria[['StudentIsPresent'] + predictors]\n",
    "\n",
    "transformer = make_column_transformer(\n",
    "    (Pipeline([\n",
    "        ('imputer', SimpleImputer(strategy='most_frequent')),\n",
    "        ('encoder', OneHotEncoder(drop='first', handle_unknown='ignore'))\n",
    "    ]), predictors),\n",
    "    remainder=\"passthrough\"\n",
    ")\n",
    "\n",
    "X = df_Nigeria_pred.drop(columns=[\"StudentIsPresent\"])\n",
    "y = df_Nigeria_pred[\"StudentIsPresent\"]\n",
    "\n",
    "# Train/test split\n",
    "X_train, X_test, y_train, y_test = train_test_split(X, y, test_size=0.2, random_state=42)\n",
    "\n",
    "logistic_model = LogisticRegression(max_iter=1000, random_state=0, class_weight='balanced')\n",
    "rf_model = RandomForestClassifier(\n",
    "    random_state=0,\n",
    "    class_weight='balanced',\n",
    "    n_jobs=1,\n",
    "    n_estimators=100,\n",
    "    max_depth=25\n",
    ")\n",
    "mlp_model = MLPClassifier(\n",
    "    hidden_layer_sizes=(50,),   # Reduced complexity\n",
    "    activation='relu',          # Default activation\n",
    "    solver='adam',              # Keep Adam solver\n",
    "    max_iter=500,            # Fix random seed for reproducibility\n",
    "    early_stopping=True,        # Use early stopping to prevent overtraining\n",
    "    validation_fraction=0.1,\n",
    "    n_iter_no_change=10\n",
    ")\n",
    "def evaluate_model(model, X_train, X_test, y_train, y_test):\n",
    "    pipeline = ImbPipeline([\n",
    "        ('preprocessor', transformer),\n",
    "        ('undersampler', RandomUnderSampler(sampling_strategy='not majority')),\n",
    "        ('model', model)\n",
    "    ])\n",
    "\n",
    "    pipeline.fit(X_train, y_train)\n",
    "    y_train_pred = pipeline.predict(X_train)\n",
    "    y_test_pred = pipeline.predict(X_test)\n",
    "\n",
    "    train_accuracy = accuracy_score(y_train, y_train_pred)\n",
    "    test_accuracy = accuracy_score(y_test, y_test_pred)\n",
    "    print(f\"{model.__class__.__name__}....\")\n",
    "    print(f\"Validation Accuracy: {train_accuracy:.2f}\")\n",
    "    print(f\"Test Accuracy: {test_accuracy:.2f}\")\n",
    "\n",
    "    print(\"Classification Report:\")\n",
    "    print(classification_report(y_test, y_test_pred))\n",
    "\n",
    "    conf_matrix = confusion_matrix(y_test, y_test_pred)\n",
    "    labels = ['Absent', 'Present']\n",
    "    disp = ConfusionMatrixDisplay(confusion_matrix=conf_matrix, display_labels=labels)\n",
    "    disp.plot(cmap='Blues', values_format='d')\n",
    "    plt.title(f\"{model.__class__.__name__} Confusion Matrix\")\n",
    "    plt.show()\n",
    "\n",
    "    print(\"\\n\" + \"=\"*50 + \"\\n\")\n",
    "    \n",
    "evaluate_model(logistic_model, X_train, X_test, y_train, y_test)\n",
    "evaluate_model(rf_model, X_train, X_test, y_train, y_test)\n",
    "#evaluate_model(mlp_model, X_train, X_test, y_train, y_test)"
   ]
  }
 ],
 "metadata": {
  "kernelspec": {
   "display_name": "Python 3 (ipykernel)",
   "language": "python",
   "name": "python3"
  },
  "language_info": {
   "codemirror_mode": {
    "name": "ipython",
    "version": 3
   },
   "file_extension": ".py",
   "mimetype": "text/x-python",
   "name": "python",
   "nbconvert_exporter": "python",
   "pygments_lexer": "ipython3",
   "version": "3.12.4"
  }
 },
 "nbformat": 4,
 "nbformat_minor": 5
}
