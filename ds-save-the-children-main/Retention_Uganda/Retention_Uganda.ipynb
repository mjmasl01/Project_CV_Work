{
 "cells": [
  {
   "cell_type": "markdown",
   "id": "e1ba4910-f325-450e-8b19-5b43294ea694",
   "metadata": {},
   "source": [
    "Ideal Output & Deliverables\n",
    "\n",
    "The ideal output of this project will be:\n",
    "A dashboard that implements predictive models to find what helps/harms a student's progression through school. \n",
    "A final report answers the Base Question:\n",
    "What are the best predictors of student retention (i.e., the prevention of student dropouts)?\n",
    "\n",
    "https://docs.google.com/document/d/1XHfDhUMD1c868baqg_8Kk4j2PJzwHRX8Psf7PTKLgss/edit?tab=t.0"
   ]
  },
  {
   "cell_type": "code",
   "execution_count": 3,
   "id": "bdea72c2-740c-47d5-89d8-ac6d006af6d5",
   "metadata": {},
   "outputs": [],
   "source": [
    "import pandas as pd\n",
    "import numpy as np"
   ]
  },
  {
   "cell_type": "markdown",
   "id": "7603938f-d4f4-4ce9-9069-cb7943a32176",
   "metadata": {},
   "source": [
    "# Uganda Data"
   ]
  },
  {
   "cell_type": "markdown",
   "id": "61781324-a834-4574-9e49-a1676fa2ab0a",
   "metadata": {},
   "source": [
    "### Load in Data"
   ]
  },
  {
   "cell_type": "code",
   "execution_count": 6,
   "id": "5642374f-464e-4093-8588-746222342b2b",
   "metadata": {},
   "outputs": [],
   "source": [
    "df_Uganda = pd.read_excel(\"/Users/matthewmaslow/Desktop/ds-save-the-children/Retention_Uganda/Uganda - 2024 10 02(v1).xlsx\",\n",
    "                         sheet_name=\"ug_fact_student_attendance\")"
   ]
  },
  {
   "cell_type": "code",
   "execution_count": 7,
   "id": "4c152d50-9551-438d-aa8f-9a7fae263a5d",
   "metadata": {},
   "outputs": [
    {
     "data": {
      "text/plain": [
       "StudentIsPresent\n",
       "True     793798\n",
       "False    155987\n",
       "Name: count, dtype: int64"
      ]
     },
     "execution_count": 7,
     "metadata": {},
     "output_type": "execute_result"
    }
   ],
   "source": [
    "df_Uganda['StudentIsPresent'].value_counts()"
   ]
  },
  {
   "cell_type": "code",
   "execution_count": 8,
   "id": "81a378ca-86b8-4611-9a2d-bf5fd49c1e2d",
   "metadata": {},
   "outputs": [
    {
     "data": {
      "text/html": [
       "<div>\n",
       "<style scoped>\n",
       "    .dataframe tbody tr th:only-of-type {\n",
       "        vertical-align: middle;\n",
       "    }\n",
       "\n",
       "    .dataframe tbody tr th {\n",
       "        vertical-align: top;\n",
       "    }\n",
       "\n",
       "    .dataframe thead th {\n",
       "        text-align: right;\n",
       "    }\n",
       "</style>\n",
       "<table border=\"1\" class=\"dataframe\">\n",
       "  <thead>\n",
       "    <tr style=\"text-align: right;\">\n",
       "      <th></th>\n",
       "      <th>MonthYear</th>\n",
       "      <th>GradeId</th>\n",
       "      <th>StudentIsPresent</th>\n",
       "      <th>ReasonType</th>\n",
       "      <th>StudentAbsenseReason</th>\n",
       "      <th>StudentAttendanceDate</th>\n",
       "      <th>ClassID</th>\n",
       "      <th>ChildrenId</th>\n",
       "      <th>ExistedClasId</th>\n",
       "      <th>WeekDayN</th>\n",
       "      <th>...</th>\n",
       "      <th>MonthYearSort</th>\n",
       "      <th>AcademicYearId</th>\n",
       "      <th>AcademicYearName</th>\n",
       "      <th>Year</th>\n",
       "      <th>Project</th>\n",
       "      <th>Gender</th>\n",
       "      <th>Cycle</th>\n",
       "      <th>RecordId</th>\n",
       "      <th>AcademicYearStartDate</th>\n",
       "      <th>AcademicYearEndtDate</th>\n",
       "    </tr>\n",
       "  </thead>\n",
       "  <tbody>\n",
       "    <tr>\n",
       "      <th>0</th>\n",
       "      <td>2022-09-01</td>\n",
       "      <td>2</td>\n",
       "      <td>True</td>\n",
       "      <td>NaN</td>\n",
       "      <td>NaN</td>\n",
       "      <td>Monday, September 12, 2022</td>\n",
       "      <td>2850</td>\n",
       "      <td>28503</td>\n",
       "      <td>True</td>\n",
       "      <td>1</td>\n",
       "      <td>...</td>\n",
       "      <td>202209</td>\n",
       "      <td>25.0</td>\n",
       "      <td>2022-PPL-Literacy-CuC Cycle 1</td>\n",
       "      <td>2022.0</td>\n",
       "      <td>PPL</td>\n",
       "      <td>Female</td>\n",
       "      <td>Literacy-Cycle 1</td>\n",
       "      <td>182765</td>\n",
       "      <td>2022-09-04</td>\n",
       "      <td>2023-01-13</td>\n",
       "    </tr>\n",
       "    <tr>\n",
       "      <th>1</th>\n",
       "      <td>2022-09-01</td>\n",
       "      <td>2</td>\n",
       "      <td>True</td>\n",
       "      <td>NaN</td>\n",
       "      <td>NaN</td>\n",
       "      <td>Monday, September 12, 2022</td>\n",
       "      <td>2850</td>\n",
       "      <td>28504</td>\n",
       "      <td>True</td>\n",
       "      <td>1</td>\n",
       "      <td>...</td>\n",
       "      <td>202209</td>\n",
       "      <td>25.0</td>\n",
       "      <td>2022-PPL-Literacy-CuC Cycle 1</td>\n",
       "      <td>2022.0</td>\n",
       "      <td>PPL</td>\n",
       "      <td>Male</td>\n",
       "      <td>Literacy-Cycle 1</td>\n",
       "      <td>182766</td>\n",
       "      <td>2022-09-04</td>\n",
       "      <td>2023-01-13</td>\n",
       "    </tr>\n",
       "    <tr>\n",
       "      <th>2</th>\n",
       "      <td>2022-09-01</td>\n",
       "      <td>2</td>\n",
       "      <td>True</td>\n",
       "      <td>NaN</td>\n",
       "      <td>NaN</td>\n",
       "      <td>Monday, September 12, 2022</td>\n",
       "      <td>2850</td>\n",
       "      <td>28505</td>\n",
       "      <td>True</td>\n",
       "      <td>1</td>\n",
       "      <td>...</td>\n",
       "      <td>202209</td>\n",
       "      <td>25.0</td>\n",
       "      <td>2022-PPL-Literacy-CuC Cycle 1</td>\n",
       "      <td>2022.0</td>\n",
       "      <td>PPL</td>\n",
       "      <td>Male</td>\n",
       "      <td>Literacy-Cycle 1</td>\n",
       "      <td>182767</td>\n",
       "      <td>2022-09-04</td>\n",
       "      <td>2023-01-13</td>\n",
       "    </tr>\n",
       "    <tr>\n",
       "      <th>3</th>\n",
       "      <td>2022-09-01</td>\n",
       "      <td>2</td>\n",
       "      <td>True</td>\n",
       "      <td>NaN</td>\n",
       "      <td>NaN</td>\n",
       "      <td>Monday, September 12, 2022</td>\n",
       "      <td>2850</td>\n",
       "      <td>28506</td>\n",
       "      <td>True</td>\n",
       "      <td>1</td>\n",
       "      <td>...</td>\n",
       "      <td>202209</td>\n",
       "      <td>25.0</td>\n",
       "      <td>2022-PPL-Literacy-CuC Cycle 1</td>\n",
       "      <td>2022.0</td>\n",
       "      <td>PPL</td>\n",
       "      <td>Male</td>\n",
       "      <td>Literacy-Cycle 1</td>\n",
       "      <td>182768</td>\n",
       "      <td>2022-09-04</td>\n",
       "      <td>2023-01-13</td>\n",
       "    </tr>\n",
       "    <tr>\n",
       "      <th>4</th>\n",
       "      <td>2022-09-01</td>\n",
       "      <td>2</td>\n",
       "      <td>True</td>\n",
       "      <td>NaN</td>\n",
       "      <td>NaN</td>\n",
       "      <td>Monday, September 12, 2022</td>\n",
       "      <td>2850</td>\n",
       "      <td>28507</td>\n",
       "      <td>True</td>\n",
       "      <td>1</td>\n",
       "      <td>...</td>\n",
       "      <td>202209</td>\n",
       "      <td>25.0</td>\n",
       "      <td>2022-PPL-Literacy-CuC Cycle 1</td>\n",
       "      <td>2022.0</td>\n",
       "      <td>PPL</td>\n",
       "      <td>Female</td>\n",
       "      <td>Literacy-Cycle 1</td>\n",
       "      <td>182769</td>\n",
       "      <td>2022-09-04</td>\n",
       "      <td>2023-01-13</td>\n",
       "    </tr>\n",
       "  </tbody>\n",
       "</table>\n",
       "<p>5 rows × 24 columns</p>\n",
       "</div>"
      ],
      "text/plain": [
       "   MonthYear  GradeId  StudentIsPresent ReasonType StudentAbsenseReason  \\\n",
       "0 2022-09-01        2              True        NaN                  NaN   \n",
       "1 2022-09-01        2              True        NaN                  NaN   \n",
       "2 2022-09-01        2              True        NaN                  NaN   \n",
       "3 2022-09-01        2              True        NaN                  NaN   \n",
       "4 2022-09-01        2              True        NaN                  NaN   \n",
       "\n",
       "        StudentAttendanceDate  ClassID  ChildrenId  ExistedClasId  WeekDayN  \\\n",
       "0  Monday, September 12, 2022     2850       28503           True         1   \n",
       "1  Monday, September 12, 2022     2850       28504           True         1   \n",
       "2  Monday, September 12, 2022     2850       28505           True         1   \n",
       "3  Monday, September 12, 2022     2850       28506           True         1   \n",
       "4  Monday, September 12, 2022     2850       28507           True         1   \n",
       "\n",
       "   ...  MonthYearSort AcademicYearId               AcademicYearName    Year  \\\n",
       "0  ...         202209           25.0  2022-PPL-Literacy-CuC Cycle 1  2022.0   \n",
       "1  ...         202209           25.0  2022-PPL-Literacy-CuC Cycle 1  2022.0   \n",
       "2  ...         202209           25.0  2022-PPL-Literacy-CuC Cycle 1  2022.0   \n",
       "3  ...         202209           25.0  2022-PPL-Literacy-CuC Cycle 1  2022.0   \n",
       "4  ...         202209           25.0  2022-PPL-Literacy-CuC Cycle 1  2022.0   \n",
       "\n",
       "   Project  Gender             Cycle  RecordId AcademicYearStartDate  \\\n",
       "0      PPL  Female  Literacy-Cycle 1    182765            2022-09-04   \n",
       "1      PPL    Male  Literacy-Cycle 1    182766            2022-09-04   \n",
       "2      PPL    Male  Literacy-Cycle 1    182767            2022-09-04   \n",
       "3      PPL    Male  Literacy-Cycle 1    182768            2022-09-04   \n",
       "4      PPL  Female  Literacy-Cycle 1    182769            2022-09-04   \n",
       "\n",
       "  AcademicYearEndtDate  \n",
       "0           2023-01-13  \n",
       "1           2023-01-13  \n",
       "2           2023-01-13  \n",
       "3           2023-01-13  \n",
       "4           2023-01-13  \n",
       "\n",
       "[5 rows x 24 columns]"
      ]
     },
     "execution_count": 8,
     "metadata": {},
     "output_type": "execute_result"
    }
   ],
   "source": [
    "df_Uganda.head()"
   ]
  },
  {
   "cell_type": "code",
   "execution_count": 9,
   "id": "5d150e91-b0f9-4462-b0cd-9d0709e12488",
   "metadata": {},
   "outputs": [
    {
     "name": "stdout",
     "output_type": "stream",
     "text": [
      "<class 'pandas.core.frame.DataFrame'>\n",
      "RangeIndex: 949785 entries, 0 to 949784\n",
      "Data columns (total 24 columns):\n",
      " #   Column                 Non-Null Count   Dtype         \n",
      "---  ------                 --------------   -----         \n",
      " 0   MonthYear              949785 non-null  datetime64[ns]\n",
      " 1   GradeId                949785 non-null  int64         \n",
      " 2   StudentIsPresent       949785 non-null  bool          \n",
      " 3   ReasonType             155987 non-null  object        \n",
      " 4   StudentAbsenseReason   155987 non-null  object        \n",
      " 5   StudentAttendanceDate  949785 non-null  object        \n",
      " 6   ClassID                949785 non-null  int64         \n",
      " 7   ChildrenId             949785 non-null  int64         \n",
      " 8   ExistedClasId          949785 non-null  bool          \n",
      " 9   WeekDayN               949785 non-null  int64         \n",
      " 10  SchoolId               949785 non-null  int64         \n",
      " 11  ClassName              949785 non-null  object        \n",
      " 12  Week                   949785 non-null  object        \n",
      " 13  WeekNum                949785 non-null  int64         \n",
      " 14  MonthYearSort          949785 non-null  int64         \n",
      " 15  AcademicYearId         877753 non-null  float64       \n",
      " 16  AcademicYearName       877753 non-null  object        \n",
      " 17  Year                   877753 non-null  float64       \n",
      " 18  Project                877753 non-null  object        \n",
      " 19  Gender                 949785 non-null  object        \n",
      " 20  Cycle                  877753 non-null  object        \n",
      " 21  RecordId               949785 non-null  int64         \n",
      " 22  AcademicYearStartDate  877753 non-null  datetime64[ns]\n",
      " 23  AcademicYearEndtDate   877753 non-null  datetime64[ns]\n",
      "dtypes: bool(2), datetime64[ns](3), float64(2), int64(8), object(9)\n",
      "memory usage: 161.2+ MB\n"
     ]
    }
   ],
   "source": [
    "df_Uganda.info()"
   ]
  },
  {
   "cell_type": "code",
   "execution_count": 10,
   "id": "5ac7f80d-e92f-48a9-b6b6-2e998735de71",
   "metadata": {},
   "outputs": [
    {
     "data": {
      "text/html": [
       "<div>\n",
       "<style scoped>\n",
       "    .dataframe tbody tr th:only-of-type {\n",
       "        vertical-align: middle;\n",
       "    }\n",
       "\n",
       "    .dataframe tbody tr th {\n",
       "        vertical-align: top;\n",
       "    }\n",
       "\n",
       "    .dataframe thead th {\n",
       "        text-align: right;\n",
       "    }\n",
       "</style>\n",
       "<table border=\"1\" class=\"dataframe\">\n",
       "  <thead>\n",
       "    <tr style=\"text-align: right;\">\n",
       "      <th></th>\n",
       "      <th>MonthYear</th>\n",
       "      <th>GradeId</th>\n",
       "      <th>ClassID</th>\n",
       "      <th>ChildrenId</th>\n",
       "      <th>WeekDayN</th>\n",
       "      <th>SchoolId</th>\n",
       "      <th>WeekNum</th>\n",
       "      <th>MonthYearSort</th>\n",
       "      <th>AcademicYearId</th>\n",
       "      <th>Year</th>\n",
       "      <th>RecordId</th>\n",
       "      <th>AcademicYearStartDate</th>\n",
       "      <th>AcademicYearEndtDate</th>\n",
       "    </tr>\n",
       "  </thead>\n",
       "  <tbody>\n",
       "    <tr>\n",
       "      <th>count</th>\n",
       "      <td>949785</td>\n",
       "      <td>949785.000000</td>\n",
       "      <td>949785.000000</td>\n",
       "      <td>949785.000000</td>\n",
       "      <td>949785.000000</td>\n",
       "      <td>949785.000000</td>\n",
       "      <td>949785.000000</td>\n",
       "      <td>949785.000000</td>\n",
       "      <td>877753.000000</td>\n",
       "      <td>877753.000000</td>\n",
       "      <td>949785.000000</td>\n",
       "      <td>877753</td>\n",
       "      <td>877753</td>\n",
       "    </tr>\n",
       "    <tr>\n",
       "      <th>mean</th>\n",
       "      <td>2023-03-22 07:30:03.928678400</td>\n",
       "      <td>6.158040</td>\n",
       "      <td>3057.990023</td>\n",
       "      <td>37491.353715</td>\n",
       "      <td>3.003385</td>\n",
       "      <td>172.350223</td>\n",
       "      <td>29.156406</td>\n",
       "      <td>202278.719590</td>\n",
       "      <td>30.192762</td>\n",
       "      <td>2022.735281</td>\n",
       "      <td>476124.799743</td>\n",
       "      <td>2023-03-13 09:22:22.886665984</td>\n",
       "      <td>2023-07-20 09:51:32.634488832</td>\n",
       "    </tr>\n",
       "    <tr>\n",
       "      <th>min</th>\n",
       "      <td>2021-08-01 00:00:00</td>\n",
       "      <td>1.000000</td>\n",
       "      <td>1879.000000</td>\n",
       "      <td>20999.000000</td>\n",
       "      <td>1.000000</td>\n",
       "      <td>88.000000</td>\n",
       "      <td>1.000000</td>\n",
       "      <td>202108.000000</td>\n",
       "      <td>21.000000</td>\n",
       "      <td>2022.000000</td>\n",
       "      <td>1.000000</td>\n",
       "      <td>2022-01-03 00:00:00</td>\n",
       "      <td>2022-06-15 00:00:00</td>\n",
       "    </tr>\n",
       "    <tr>\n",
       "      <th>25%</th>\n",
       "      <td>2022-11-01 00:00:00</td>\n",
       "      <td>2.000000</td>\n",
       "      <td>2473.000000</td>\n",
       "      <td>29035.000000</td>\n",
       "      <td>2.000000</td>\n",
       "      <td>143.000000</td>\n",
       "      <td>15.000000</td>\n",
       "      <td>202211.000000</td>\n",
       "      <td>25.000000</td>\n",
       "      <td>2022.000000</td>\n",
       "      <td>238595.000000</td>\n",
       "      <td>2022-11-01 00:00:00</td>\n",
       "      <td>2023-03-31 00:00:00</td>\n",
       "    </tr>\n",
       "    <tr>\n",
       "      <th>50%</th>\n",
       "      <td>2023-05-01 00:00:00</td>\n",
       "      <td>3.000000</td>\n",
       "      <td>3178.000000</td>\n",
       "      <td>37887.000000</td>\n",
       "      <td>3.000000</td>\n",
       "      <td>167.000000</td>\n",
       "      <td>33.000000</td>\n",
       "      <td>202305.000000</td>\n",
       "      <td>30.000000</td>\n",
       "      <td>2023.000000</td>\n",
       "      <td>476344.000000</td>\n",
       "      <td>2023-04-03 00:00:00</td>\n",
       "      <td>2023-09-01 00:00:00</td>\n",
       "    </tr>\n",
       "    <tr>\n",
       "      <th>75%</th>\n",
       "      <td>2023-10-01 00:00:00</td>\n",
       "      <td>4.000000</td>\n",
       "      <td>3596.000000</td>\n",
       "      <td>45404.000000</td>\n",
       "      <td>4.000000</td>\n",
       "      <td>206.000000</td>\n",
       "      <td>43.000000</td>\n",
       "      <td>202310.000000</td>\n",
       "      <td>34.000000</td>\n",
       "      <td>2023.000000</td>\n",
       "      <td>713846.000000</td>\n",
       "      <td>2023-07-15 00:00:00</td>\n",
       "      <td>2023-12-15 00:00:00</td>\n",
       "    </tr>\n",
       "    <tr>\n",
       "      <th>max</th>\n",
       "      <td>2024-02-01 00:00:00</td>\n",
       "      <td>27.000000</td>\n",
       "      <td>4025.000000</td>\n",
       "      <td>54814.000000</td>\n",
       "      <td>7.000000</td>\n",
       "      <td>271.000000</td>\n",
       "      <td>53.000000</td>\n",
       "      <td>202402.000000</td>\n",
       "      <td>41.000000</td>\n",
       "      <td>2024.000000</td>\n",
       "      <td>951323.000000</td>\n",
       "      <td>2024-01-02 00:00:00</td>\n",
       "      <td>2024-05-16 00:00:00</td>\n",
       "    </tr>\n",
       "    <tr>\n",
       "      <th>std</th>\n",
       "      <td>NaN</td>\n",
       "      <td>7.208931</td>\n",
       "      <td>623.034401</td>\n",
       "      <td>9472.144651</td>\n",
       "      <td>1.458241</td>\n",
       "      <td>49.032464</td>\n",
       "      <td>15.239789</td>\n",
       "      <td>70.215601</td>\n",
       "      <td>5.727238</td>\n",
       "      <td>0.606958</td>\n",
       "      <td>274502.726138</td>\n",
       "      <td>NaN</td>\n",
       "      <td>NaN</td>\n",
       "    </tr>\n",
       "  </tbody>\n",
       "</table>\n",
       "</div>"
      ],
      "text/plain": [
       "                           MonthYear        GradeId        ClassID  \\\n",
       "count                         949785  949785.000000  949785.000000   \n",
       "mean   2023-03-22 07:30:03.928678400       6.158040    3057.990023   \n",
       "min              2021-08-01 00:00:00       1.000000    1879.000000   \n",
       "25%              2022-11-01 00:00:00       2.000000    2473.000000   \n",
       "50%              2023-05-01 00:00:00       3.000000    3178.000000   \n",
       "75%              2023-10-01 00:00:00       4.000000    3596.000000   \n",
       "max              2024-02-01 00:00:00      27.000000    4025.000000   \n",
       "std                              NaN       7.208931     623.034401   \n",
       "\n",
       "          ChildrenId       WeekDayN       SchoolId        WeekNum  \\\n",
       "count  949785.000000  949785.000000  949785.000000  949785.000000   \n",
       "mean    37491.353715       3.003385     172.350223      29.156406   \n",
       "min     20999.000000       1.000000      88.000000       1.000000   \n",
       "25%     29035.000000       2.000000     143.000000      15.000000   \n",
       "50%     37887.000000       3.000000     167.000000      33.000000   \n",
       "75%     45404.000000       4.000000     206.000000      43.000000   \n",
       "max     54814.000000       7.000000     271.000000      53.000000   \n",
       "std      9472.144651       1.458241      49.032464      15.239789   \n",
       "\n",
       "       MonthYearSort  AcademicYearId           Year       RecordId  \\\n",
       "count  949785.000000   877753.000000  877753.000000  949785.000000   \n",
       "mean   202278.719590       30.192762    2022.735281  476124.799743   \n",
       "min    202108.000000       21.000000    2022.000000       1.000000   \n",
       "25%    202211.000000       25.000000    2022.000000  238595.000000   \n",
       "50%    202305.000000       30.000000    2023.000000  476344.000000   \n",
       "75%    202310.000000       34.000000    2023.000000  713846.000000   \n",
       "max    202402.000000       41.000000    2024.000000  951323.000000   \n",
       "std        70.215601        5.727238       0.606958  274502.726138   \n",
       "\n",
       "               AcademicYearStartDate           AcademicYearEndtDate  \n",
       "count                         877753                         877753  \n",
       "mean   2023-03-13 09:22:22.886665984  2023-07-20 09:51:32.634488832  \n",
       "min              2022-01-03 00:00:00            2022-06-15 00:00:00  \n",
       "25%              2022-11-01 00:00:00            2023-03-31 00:00:00  \n",
       "50%              2023-04-03 00:00:00            2023-09-01 00:00:00  \n",
       "75%              2023-07-15 00:00:00            2023-12-15 00:00:00  \n",
       "max              2024-01-02 00:00:00            2024-05-16 00:00:00  \n",
       "std                              NaN                            NaN  "
      ]
     },
     "execution_count": 10,
     "metadata": {},
     "output_type": "execute_result"
    }
   ],
   "source": [
    "df_Uganda.describe()"
   ]
  },
  {
   "cell_type": "markdown",
   "id": "f36a94a9-8433-4f6e-bbf9-4d5353d212d2",
   "metadata": {},
   "source": [
    "### Prep Data"
   ]
  },
  {
   "cell_type": "code",
   "execution_count": 12,
   "id": "5ac4c315-b8d6-4b7b-9a16-f5d8076098f9",
   "metadata": {},
   "outputs": [],
   "source": [
    "# Convert boolean columns to int64 (False = 0, True = 1)\n",
    "boolean_columns = df_Uganda.select_dtypes(include='bool').columns\n",
    "df_Uganda[boolean_columns] = df_Uganda[boolean_columns].astype(float)"
   ]
  },
  {
   "cell_type": "code",
   "execution_count": 13,
   "id": "ff2b71bd-708e-4873-9976-4aeedf4482ca",
   "metadata": {},
   "outputs": [],
   "source": [
    "df_Uganda['StudentAttendanceDate'] = df_Uganda['StudentAttendanceDate'].astype('datetime64[ns]')\n",
    "columns_to_convert = ['ReasonType', 'StudentAbsenseReason', 'AcademicYearName', 'Project', 'Gender', 'Cycle']\n",
    "df_Uganda[columns_to_convert] = df_Uganda[columns_to_convert].astype('category')"
   ]
  },
  {
   "cell_type": "code",
   "execution_count": 14,
   "id": "d3bd22c0-a789-4aa9-bfa8-b4cd66387c03",
   "metadata": {},
   "outputs": [],
   "source": [
    "df_Uganda = df_Uganda.select_dtypes(exclude=['datetime64[ns]', 'object'])"
   ]
  },
  {
   "cell_type": "code",
   "execution_count": 15,
   "id": "87c02da0-d58c-45e6-b68b-109f3cbfe67f",
   "metadata": {},
   "outputs": [
    {
     "name": "stdout",
     "output_type": "stream",
     "text": [
      "<class 'pandas.core.frame.DataFrame'>\n",
      "RangeIndex: 949785 entries, 0 to 949784\n",
      "Data columns (total 18 columns):\n",
      " #   Column                Non-Null Count   Dtype   \n",
      "---  ------                --------------   -----   \n",
      " 0   GradeId               949785 non-null  int64   \n",
      " 1   StudentIsPresent      949785 non-null  float64 \n",
      " 2   ReasonType            155987 non-null  category\n",
      " 3   StudentAbsenseReason  155987 non-null  category\n",
      " 4   ClassID               949785 non-null  int64   \n",
      " 5   ChildrenId            949785 non-null  int64   \n",
      " 6   ExistedClasId         949785 non-null  float64 \n",
      " 7   WeekDayN              949785 non-null  int64   \n",
      " 8   SchoolId              949785 non-null  int64   \n",
      " 9   WeekNum               949785 non-null  int64   \n",
      " 10  MonthYearSort         949785 non-null  int64   \n",
      " 11  AcademicYearId        877753 non-null  float64 \n",
      " 12  AcademicYearName      877753 non-null  category\n",
      " 13  Year                  877753 non-null  float64 \n",
      " 14  Project               877753 non-null  category\n",
      " 15  Gender                949785 non-null  category\n",
      " 16  Cycle                 877753 non-null  category\n",
      " 17  RecordId              949785 non-null  int64   \n",
      "dtypes: category(6), float64(4), int64(8)\n",
      "memory usage: 92.4 MB\n"
     ]
    }
   ],
   "source": [
    "df_Uganda.info()"
   ]
  },
  {
   "cell_type": "code",
   "execution_count": 16,
   "id": "a46cee0e-0e45-4e47-af5f-fb9707b95d05",
   "metadata": {},
   "outputs": [
    {
     "name": "stdout",
     "output_type": "stream",
     "text": [
      "Overall Student Retention Rate: 83.58%\n"
     ]
    }
   ],
   "source": [
    "overall_retention_rate = df_Uganda['StudentIsPresent'].mean()\n",
    "print(f'Overall Student Retention Rate: {overall_retention_rate:.2%}')"
   ]
  },
  {
   "cell_type": "code",
   "execution_count": 17,
   "id": "5cb9c8f6-ed6b-419e-b5fc-07ec337385aa",
   "metadata": {},
   "outputs": [
    {
     "name": "stderr",
     "output_type": "stream",
     "text": [
      "/var/folders/sf/c0xndf0951l35zqvq0zt2vy00000gn/T/ipykernel_65378/68507526.py:7: FutureWarning: The default of observed=False is deprecated and will be changed to True in a future version of pandas. Pass observed=False to retain current behavior or observed=True to adopt the future default and silence this warning.\n",
      "  gender_retention_rate = filtered_df.groupby('Gender')['StudentIsPresent'].mean()\n"
     ]
    },
    {
     "data": {
      "image/png": "[encoded data removed]",
      "text/plain": [
       "<Figure size 800x500 with 1 Axes>"
      ]
     },
     "metadata": {},
     "output_type": "display_data"
    }
   ],
   "source": [
    "import matplotlib.pyplot as plt\n",
    "\n",
    "# Filter out rows where 'Gender' is 'unknown'\n",
    "filtered_df = df_Uganda[df_Uganda['Gender'] != 'unknown']\n",
    "\n",
    "# Calculate the retention rate by gender\n",
    "gender_retention_rate = filtered_df.groupby('Gender')['StudentIsPresent'].mean()\n",
    "\n",
    "# Ensure the bar plot only includes known genders\n",
    "gender_retention_rate = gender_retention_rate[gender_retention_rate.index.isin(['Male', 'Female'])]\n",
    "\n",
    "plt.figure(figsize=(8, 5))\n",
    "bars = gender_retention_rate.plot(kind='bar', color=['blue', 'pink'])\n",
    "plt.title('Average Student Retention Rate by Gender')\n",
    "plt.xlabel('Gender')\n",
    "plt.ylabel('Retention Rate')\n",
    "plt.xticks(rotation=0)\n",
    "plt.ylim(0, 1)\n",
    "plt.axhline(y=gender_retention_rate.mean(), color='orange', linestyle='--')\n",
    "plt.grid(axis='y')\n",
    "\n",
    "# Annotate the bars with the retention rates\n",
    "for bar in bars.patches:\n",
    "    plt.annotate(f'{bar.get_height():.2%}', \n",
    "                 (bar.get_x() + bar.get_width() / 2, bar.get_height()), \n",
    "                 ha='center', va='bottom', \n",
    "                 fontsize=10, color='black')\n",
    "\n",
    "plt.show()"
   ]
  },
  {
   "cell_type": "code",
   "execution_count": 18,
   "id": "578b8520-9b52-4a1a-90f6-985e99e6f565",
   "metadata": {},
   "outputs": [
    {
     "name": "stdout",
     "output_type": "stream",
     "text": [
      "<class 'pandas.core.frame.DataFrame'>\n",
      "RangeIndex: 949785 entries, 0 to 949784\n",
      "Data columns (total 18 columns):\n",
      " #   Column                Non-Null Count   Dtype   \n",
      "---  ------                --------------   -----   \n",
      " 0   GradeId               949785 non-null  int64   \n",
      " 1   StudentIsPresent      949785 non-null  float64 \n",
      " 2   ReasonType            155987 non-null  category\n",
      " 3   StudentAbsenseReason  155987 non-null  category\n",
      " 4   ClassID               949785 non-null  int64   \n",
      " 5   ChildrenId            949785 non-null  int64   \n",
      " 6   ExistedClasId         949785 non-null  float64 \n",
      " 7   WeekDayN              949785 non-null  int64   \n",
      " 8   SchoolId              949785 non-null  int64   \n",
      " 9   WeekNum               949785 non-null  int64   \n",
      " 10  MonthYearSort         949785 non-null  int64   \n",
      " 11  AcademicYearId        877753 non-null  float64 \n",
      " 12  AcademicYearName      877753 non-null  category\n",
      " 13  Year                  877753 non-null  float64 \n",
      " 14  Project               877753 non-null  category\n",
      " 15  Gender                949785 non-null  category\n",
      " 16  Cycle                 877753 non-null  category\n",
      " 17  RecordId              949785 non-null  int64   \n",
      "dtypes: category(6), float64(4), int64(8)\n",
      "memory usage: 92.4 MB\n"
     ]
    }
   ],
   "source": [
    "df_Uganda.info()"
   ]
  },
  {
   "cell_type": "code",
   "execution_count": 19,
   "id": "70eca3d5-1533-499a-ac93-20a6304b5bfe",
   "metadata": {},
   "outputs": [
    {
     "data": {
      "text/plain": [
       "StudentIsPresent        1.000000\n",
       "WeekNum                 0.082679\n",
       "ClassID                 0.026823\n",
       "ChildrenId              0.024367\n",
       "SchoolId                0.022903\n",
       "RecordId                0.022395\n",
       "GradeId                 0.020518\n",
       "AcademicYearId          0.019316\n",
       "Year                    0.008994\n",
       "WeekDayN               -0.007368\n",
       "MonthYearSort          -0.009916\n",
       "ReasonType                   NaN\n",
       "StudentAbsenseReason         NaN\n",
       "ExistedClasId                NaN\n",
       "AcademicYearName             NaN\n",
       "Project                      NaN\n",
       "Gender                       NaN\n",
       "Cycle                        NaN\n",
       "Name: StudentIsPresent, dtype: float64"
      ]
     },
     "execution_count": 19,
     "metadata": {},
     "output_type": "execute_result"
    }
   ],
   "source": [
    "numeric_df_Uganda = df_Uganda.apply(pd.to_numeric, errors='coerce')\n",
    "correlation_matrix = numeric_df_Uganda.corr()\n",
    "\n",
    "target_correlation = correlation_matrix['StudentIsPresent'].sort_values(ascending=False)\n",
    "target_correlation\n"
   ]
  },
  {
   "cell_type": "code",
   "execution_count": 20,
   "id": "63671a72-3981-4f2e-a2b6-85bad1faa65a",
   "metadata": {},
   "outputs": [
    {
     "name": "stderr",
     "output_type": "stream",
     "text": [
      "/var/folders/sf/c0xndf0951l35zqvq0zt2vy00000gn/T/ipykernel_65378/1772270114.py:17: FutureWarning: A value is trying to be set on a copy of a DataFrame or Series through chained assignment using an inplace method.\n",
      "The behavior will change in pandas 3.0. This inplace method will never work because the intermediate object on which we are setting values always behaves as a copy.\n",
      "\n",
      "For example, when doing 'df[col].method(value, inplace=True)', try using 'df.method({col: value}, inplace=True)' or df[col] = df[col].method(value) instead, to perform the operation inplace on the original object.\n",
      "\n",
      "\n",
      "  df_Uganda[col].fillna(df_Uganda[col].mode()[0], inplace=True)\n"
     ]
    },
    {
     "data": {
      "text/plain": [
       "{'ReasonType': 0.3686417814204601,\n",
       " 'StudentAbsenseReason': 0.3686417814204601,\n",
       " 'AcademicYearName': 0.13962247308741818,\n",
       " 'Project': 0.013384921452980281,\n",
       " 'Gender': 0.023487318738146874,\n",
       " 'Cycle': 0.06223680841725574}"
      ]
     },
     "execution_count": 20,
     "metadata": {},
     "output_type": "execute_result"
    }
   ],
   "source": [
    "import numpy as np\n",
    "from scipy.stats import chi2_contingency\n",
    "\n",
    "# Function to calculate Cramér's V\n",
    "def cramers_v(x, y):\n",
    "    confusion_matrix = pd.crosstab(x, y)\n",
    "    chi2 = chi2_contingency(confusion_matrix)[0]\n",
    "    n = confusion_matrix.sum().sum()\n",
    "    return np.sqrt(chi2 / (n * (min(confusion_matrix.shape) - 1)))\n",
    "\n",
    "# Updated categorical columns based on df_Uganda\n",
    "categorical_columns = ['ReasonType', 'StudentAbsenseReason', 'AcademicYearName', 'Project', 'Gender', 'Cycle']\n",
    "\n",
    "# Fill missing values with the mode (most frequent value) for each categorical column\n",
    "for col in categorical_columns:\n",
    "    if df_Uganda[col].isnull().any():\n",
    "        df_Uganda[col].fillna(df_Uganda[col].mode()[0], inplace=True)\n",
    "\n",
    "# Calculate Cramér's V for each categorical column against 'StudentIsPresent'\n",
    "cramers_v_results = {col: cramers_v(df_Uganda[col], df_Uganda['StudentIsPresent']) for col in categorical_columns}\n",
    "cramers_v_results\n"
   ]
  },
  {
   "cell_type": "markdown",
   "id": "20a78f2d-24a8-4d8c-aff3-9f73c33e4762",
   "metadata": {},
   "source": [
    "### Model"
   ]
  },
  {
   "cell_type": "code",
   "execution_count": 22,
   "id": "03b5ada3-2869-4cba-a3b2-8826228efcb1",
   "metadata": {},
   "outputs": [
    {
     "name": "stdout",
     "output_type": "stream",
     "text": [
      "Using device: cpu\n"
     ]
    }
   ],
   "source": [
    "# Set device based on GPU availability\n",
    "import torch\n",
    "\n",
    "device = torch.device(\"cuda\" if torch.cuda.is_available() else \"cpu\")\n",
    "print(f\"Using device: {device}\")\n",
    "\n",
    "# Utility function to transfer tensors to the selected device\n",
    "def to_device(tensor):\n",
    "    return tensor.to(device)"
   ]
  },
  {
   "cell_type": "code",
   "execution_count": 23,
   "id": "fb4ef46c-7a52-46d7-80ab-3ab6e836e4b2",
   "metadata": {},
   "outputs": [],
   "source": [
    "predictors = [\n",
    "    \"GradeId\",\n",
    "    \"ReasonType\",\n",
    "    \"StudentAbsenseReason\",\n",
    "    \"ClassID\",\n",
    "    \"ChildrenId\",\n",
    "    \"WeekDayN\",\n",
    "    \"SchoolId\",\n",
    "    \"MonthYearSort\",\n",
    "    \"AcademicYearId\",\n",
    "    \"AcademicYearName\",\n",
    "    \"Project\",\n",
    "    \"RecordId\"\n",
    "]"
   ]
  },
  {
   "cell_type": "code",
   "execution_count": 24,
   "id": "51ed0962-c3d8-4d11-af39-77a9663a207c",
   "metadata": {},
   "outputs": [
    {
     "name": "stdout",
     "output_type": "stream",
     "text": [
      "Using device: cpu\n"
     ]
    },
    {
     "name": "stderr",
     "output_type": "stream",
     "text": [
      "/opt/anaconda3/lib/python3.12/site-packages/sklearn/preprocessing/_encoders.py:241: UserWarning: Found unknown categories in columns [2, 4, 11] during transform. These unknown categories will be encoded as all zeros\n",
      "  warnings.warn(\n"
     ]
    },
    {
     "name": "stdout",
     "output_type": "stream",
     "text": [
      "LogisticRegression....\n",
      "Validation Accuracy: 0.92\n",
      "Test Accuracy: 0.83\n",
      "Classification Report:\n",
      "              precision    recall  f1-score   support\n",
      "\n",
      "         0.0       0.48      0.66      0.56     31228\n",
      "         1.0       0.93      0.86      0.89    158729\n",
      "\n",
      "    accuracy                           0.83    189957\n",
      "   macro avg       0.70      0.76      0.72    189957\n",
      "weighted avg       0.85      0.83      0.84    189957\n",
      "\n"
     ]
    },
    {
     "data": {
      "image/png": "[encoded data removed]",
      "text/plain": [
       "<Figure size 640x480 with 2 Axes>"
      ]
     },
     "metadata": {},
     "output_type": "display_data"
    },
    {
     "name": "stdout",
     "output_type": "stream",
     "text": [
      "\n",
      "==================================================\n",
      "\n"
     ]
    },
    {
     "name": "stderr",
     "output_type": "stream",
     "text": [
      "/opt/anaconda3/lib/python3.12/site-packages/sklearn/preprocessing/_encoders.py:241: UserWarning: Found unknown categories in columns [2, 4, 11] during transform. These unknown categories will be encoded as all zeros\n",
      "  warnings.warn(\n"
     ]
    },
    {
     "name": "stdout",
     "output_type": "stream",
     "text": [
      "RandomForestClassifier....\n",
      "Validation Accuracy: 0.77\n",
      "Test Accuracy: 0.77\n",
      "Classification Report:\n",
      "              precision    recall  f1-score   support\n",
      "\n",
      "         0.0       0.37      0.58      0.45     31228\n",
      "         1.0       0.91      0.80      0.85    158729\n",
      "\n",
      "    accuracy                           0.77    189957\n",
      "   macro avg       0.64      0.69      0.65    189957\n",
      "weighted avg       0.82      0.77      0.78    189957\n",
      "\n"
     ]
    },
    {
     "data": {
      "image/png": "[encoded data removed]",
      "text/plain": [
       "<Figure size 640x480 with 2 Axes>"
      ]
     },
     "metadata": {},
     "output_type": "display_data"
    },
    {
     "name": "stdout",
     "output_type": "stream",
     "text": [
      "\n",
      "==================================================\n",
      "\n"
     ]
    },
    {
     "name": "stderr",
     "output_type": "stream",
     "text": [
      "/opt/anaconda3/lib/python3.12/site-packages/sklearn/preprocessing/_encoders.py:241: UserWarning: Found unknown categories in columns [2, 4, 11] during transform. These unknown categories will be encoded as all zeros\n",
      "  warnings.warn(\n"
     ]
    },
    {
     "name": "stdout",
     "output_type": "stream",
     "text": [
      "DecisionTreeClassifier....\n",
      "Validation Accuracy: 0.77\n",
      "Test Accuracy: 0.77\n",
      "Classification Report:\n",
      "              precision    recall  f1-score   support\n",
      "\n",
      "         0.0       0.37      0.53      0.43     31228\n",
      "         1.0       0.90      0.82      0.86    158729\n",
      "\n",
      "    accuracy                           0.77    189957\n",
      "   macro avg       0.63      0.68      0.65    189957\n",
      "weighted avg       0.81      0.77      0.79    189957\n",
      "\n"
     ]
    },
    {
     "data": {
      "image/png": "[encoded data removed]",
      "text/plain": [
       "<Figure size 640x480 with 2 Axes>"
      ]
     },
     "metadata": {},
     "output_type": "display_data"
    },
    {
     "name": "stdout",
     "output_type": "stream",
     "text": [
      "\n",
      "==================================================\n",
      "\n"
     ]
    }
   ],
   "source": [
    "import torch\n",
    "import torch.nn as nn\n",
    "import torch.optim as optim\n",
    "from sklearn.pipeline import Pipeline\n",
    "from sklearn.model_selection import train_test_split\n",
    "from sklearn.linear_model import LogisticRegression\n",
    "from sklearn.ensemble import RandomForestClassifier\n",
    "from sklearn.tree import DecisionTreeClassifier\n",
    "from sklearn.metrics import classification_report, accuracy_score, confusion_matrix, ConfusionMatrixDisplay\n",
    "from sklearn.preprocessing import OneHotEncoder\n",
    "from sklearn.impute import SimpleImputer\n",
    "from sklearn.compose import make_column_transformer\n",
    "from imblearn.pipeline import Pipeline as ImbPipeline\n",
    "from imblearn.under_sampling import RandomUnderSampler\n",
    "import matplotlib.pyplot as plt\n",
    "\n",
    "# Set device based on GPU availability\n",
    "device = torch.device(\"cuda\" if torch.cuda.is_available() else \"cpu\")\n",
    "print(f\"Using device: {device}\")\n",
    "\n",
    "# Data preprocessing and transformation setup\n",
    "df_Uganda_pred = df_Uganda[['StudentIsPresent'] + predictors]\n",
    "\n",
    "transformer = make_column_transformer(\n",
    "    (Pipeline([\n",
    "        ('imputer', SimpleImputer(strategy='most_frequent')),\n",
    "        ('encoder', OneHotEncoder(drop='first', handle_unknown='ignore'))\n",
    "    ]), predictors),\n",
    "    remainder=\"passthrough\"\n",
    ")\n",
    "\n",
    "X = df_Uganda_pred.drop(columns=[\"StudentIsPresent\"])\n",
    "y = df_Uganda_pred[\"StudentIsPresent\"]\n",
    "\n",
    "# Train/test split\n",
    "X_train, X_test, y_train, y_test = train_test_split(X, y, test_size=0.2, random_state=42)\n",
    "\n",
    "# Define scikit-learn models\n",
    "logistic_model = LogisticRegression(max_iter=2000, random_state=0, class_weight='balanced')\n",
    "rf_model = RandomForestClassifier(\n",
    "    random_state=0,\n",
    "    class_weight='balanced',\n",
    "    n_jobs=1,\n",
    "    n_estimators=100,\n",
    "    max_depth=30\n",
    ")\n",
    "dt_model = DecisionTreeClassifier(\n",
    "    random_state=0,\n",
    "    class_weight='balanced',\n",
    "    max_depth=10,          \n",
    "    min_samples_split=10,     \n",
    "    min_samples_leaf=5        \n",
    ")\n",
    "\n",
    "# Evaluate model function\n",
    "def evaluate_model(model, X_train, X_test, y_train, y_test, model_type='sklearn'):\n",
    "    if model_type == 'sklearn':\n",
    "        pipeline = ImbPipeline([\n",
    "            ('preprocessor', transformer),\n",
    "            ('undersampler', RandomUnderSampler(sampling_strategy='not majority')),\n",
    "            ('model', model)\n",
    "        ])\n",
    "        pipeline.fit(X_train, y_train)\n",
    "        y_train_pred = pipeline.predict(X_train)\n",
    "        y_test_pred = pipeline.predict(X_test)\n",
    "    # Output results for both model types\n",
    "    train_accuracy = accuracy_score(y_train, y_train_pred)\n",
    "    test_accuracy = accuracy_score(y_test, y_test_pred)\n",
    "    print(f\"{model.__class__.__name__}....\")\n",
    "    print(f\"Validation Accuracy: {train_accuracy:.2f}\")\n",
    "    print(f\"Test Accuracy: {test_accuracy:.2f}\")\n",
    "\n",
    "    print(\"Classification Report:\")\n",
    "    print(classification_report(y_test, y_test_pred))\n",
    "\n",
    "    conf_matrix = confusion_matrix(y_test, y_test_pred)\n",
    "    labels = ['Absent', 'Present']\n",
    "    disp = ConfusionMatrixDisplay(confusion_matrix=conf_matrix, display_labels=labels)\n",
    "    disp.plot(cmap='Blues', values_format='d')\n",
    "    plt.title(f\"{model.__class__.__name__} Confusion Matrix\")\n",
    "    plt.show()\n",
    "    print(\"\\n\" + \"=\"*50 + \"\\n\")\n",
    "\n",
    "# Evaluate models\n",
    "evaluate_model(logistic_model, X_train, X_test, y_train, y_test, model_type='sklearn')\n",
    "evaluate_model(rf_model, X_train, X_test, y_train, y_test, model_type='sklearn')\n",
    "evaluate_model(dt_model, X_train, X_test, y_train, y_test, model_type='sklearn')"
   ]
  },
  {
   "cell_type": "raw",
   "id": "c5b337cb-6ae1-4d0c-884c-5353f4d9ff41",
   "metadata": {},
   "source": [
    "### Some more data refining\n"
   ]
  },
  {
   "cell_type": "code",
   "execution_count": 25,
   "id": "86ca6482-165c-4c0a-9aa3-67d03b7cb0a2",
   "metadata": {},
   "outputs": [
    {
     "name": "stdout",
     "output_type": "stream",
     "text": [
      "<class 'pandas.core.frame.DataFrame'>\n",
      "RangeIndex: 949785 entries, 0 to 949784\n",
      "Data columns (total 18 columns):\n",
      " #   Column                Non-Null Count   Dtype   \n",
      "---  ------                --------------   -----   \n",
      " 0   GradeId               949785 non-null  int64   \n",
      " 1   StudentIsPresent      949785 non-null  float64 \n",
      " 2   ReasonType            949785 non-null  category\n",
      " 3   StudentAbsenseReason  949785 non-null  category\n",
      " 4   ClassID               949785 non-null  int64   \n",
      " 5   ChildrenId            949785 non-null  int64   \n",
      " 6   ExistedClasId         949785 non-null  float64 \n",
      " 7   WeekDayN              949785 non-null  int64   \n",
      " 8   SchoolId              949785 non-null  int64   \n",
      " 9   WeekNum               949785 non-null  int64   \n",
      " 10  MonthYearSort         949785 non-null  int64   \n",
      " 11  AcademicYearId        877753 non-null  float64 \n",
      " 12  AcademicYearName      949785 non-null  category\n",
      " 13  Year                  877753 non-null  float64 \n",
      " 14  Project               949785 non-null  category\n",
      " 15  Gender                949785 non-null  category\n",
      " 16  Cycle                 949785 non-null  category\n",
      " 17  RecordId              949785 non-null  int64   \n",
      "dtypes: category(6), float64(4), int64(8)\n",
      "memory usage: 92.4 MB\n"
     ]
    }
   ],
   "source": [
    "df_Uganda.info()"
   ]
  },
  {
   "cell_type": "code",
   "execution_count": 26,
   "id": "eb515b2a-1cac-4ff9-a250-f73e25fc2c1f",
   "metadata": {},
   "outputs": [
    {
     "name": "stdout",
     "output_type": "stream",
     "text": [
      "Index(['GradeId', 'StudentIsPresent', 'ReasonType', 'StudentAbsenseReason',\n",
      "       'ClassID', 'ChildrenId', 'ExistedClasId', 'WeekDayN', 'SchoolId',\n",
      "       'WeekNum', 'MonthYearSort', 'AcademicYearId', 'AcademicYearName',\n",
      "       'Year', 'Project', 'Gender', 'Cycle', 'RecordId'],\n",
      "      dtype='object')\n"
     ]
    }
   ],
   "source": [
    "print(df_Uganda.columns)"
   ]
  },
  {
   "cell_type": "code",
   "execution_count": 27,
   "id": "c24cbc54-2454-42bb-bf2b-767d9f4c68ac",
   "metadata": {},
   "outputs": [],
   "source": [
    "df_Uganda = df_Uganda[[\n",
    "    'GradeId',\n",
    "    'ReasonType',\n",
    "    'ClassID',\n",
    "    'ChildrenId',\n",
    "    'WeekDayN',\n",
    "    'SchoolId',\n",
    "    'MonthYearSort',\n",
    "    'AcademicYearName',\n",
    "    'Project',\n",
    "    'Gender',\n",
    "    'Cycle',\n",
    "    'StudentIsPresent'\n",
    "]]"
   ]
  },
  {
   "cell_type": "code",
   "execution_count": 28,
   "id": "c3df6a40-1b6e-422b-926a-5fe8cc067eef",
   "metadata": {},
   "outputs": [
    {
     "name": "stdout",
     "output_type": "stream",
     "text": [
      "File saved successfully at /Users/matthewmaslow/Desktop/ds-save-the-children/Retention_Uganda/df_Uganda_cleaned.xlsx\n"
     ]
    }
   ],
   "source": [
    "file_path = '/Users/matthewmaslow/Desktop/ds-save-the-children/Retention_Uganda/df_Uganda_cleaned.xlsx'\n",
    "\n",
    "df_Uganda.to_excel(file_path, index=False)\n",
    "\n",
    "print(f\"File saved successfully at {file_path}\")\n"
   ]
  },
  {
   "cell_type": "code",
   "execution_count": 29,
   "id": "550921c4-cf5a-45a0-8173-389c6f478423",
   "metadata": {},
   "outputs": [
    {
     "name": "stdout",
     "output_type": "stream",
     "text": [
      "File saved successfully at /Users/matthewmaslow/Desktop/ds-save-the-children/Retention_Uganda/df_Uganda_cleaned.csv\n"
     ]
    }
   ],
   "source": [
    "file_path = '/Users/matthewmaslow/Desktop/ds-save-the-children/Retention_Uganda/df_Uganda_cleaned.csv'\n",
    "\n",
    "df_Uganda.to_csv(file_path, index=False)\n",
    "\n",
    "print(f\"File saved successfully at {file_path}\")\n"
   ]
  },
  {
   "cell_type": "code",
   "execution_count": 30,
   "id": "3db3c322-4523-4b8b-a3ae-ba1e98930fd6",
   "metadata": {},
   "outputs": [
    {
     "name": "stdout",
     "output_type": "stream",
     "text": [
      "File cleaned and saved successfully at /Users/matthewmaslow/Desktop/ds-save-the-children/Retention_Uganda/df_Uganda_cleaned_optimized.csv\n"
     ]
    }
   ],
   "source": [
    "import pandas as pd\n",
    "\n",
    "# File path for the input CSV\n",
    "file_path = '/Users/matthewmaslow/Desktop/ds-save-the-children/Retention_Uganda/df_Uganda_cleaned.csv'\n",
    "\n",
    "# Load the CSV file into a DataFrame\n",
    "df_Uganda_save = pd.read_csv(file_path)\n",
    "\n",
    "# Drop rows with missing 'GradeId'\n",
    "df_Uganda_save = df_Uganda_save.dropna(subset=['GradeId'])\n",
    "\n",
    "# Convert float64 columns to float32\n",
    "for col in df_Uganda_save.select_dtypes(include=['float64']).columns:\n",
    "    df_Uganda_save[col] = df_Uganda_save[col].astype('float32')\n",
    "\n",
    "# Convert int64 columns to int32\n",
    "for col in df_Uganda_save.select_dtypes(include=['int64']).columns:\n",
    "    df_Uganda_save[col] = df_Uganda_save[col].astype('int32')\n",
    "\n",
    "# Convert object columns to category\n",
    "for col in df_Uganda_save.select_dtypes(include=['object']).columns:\n",
    "    df_Uganda_save[col] = df_Uganda_save[col].astype('category')\n",
    "\n",
    "# Output file path for the cleaned and optimized CSV\n",
    "output_file_path = '/Users/matthewmaslow/Desktop/ds-save-the-children/Retention_Uganda/df_Uganda_cleaned_optimized.csv'\n",
    "\n",
    "# Save the cleaned DataFrame to a new CSV file\n",
    "df_Uganda_save.to_csv(output_file_path, index=False)\n",
    "\n",
    "# Print success message\n",
    "print(f\"File cleaned and saved successfully at {output_file_path}\")\n"
   ]
  },
  {
   "cell_type": "code",
   "execution_count": 31,
   "id": "b97a7f92-0f79-4db2-963d-801e2aeb930f",
   "metadata": {},
   "outputs": [],
   "source": [
    "import pandas as pd\n",
    "\n",
    "# Assuming your DataFrame is df_Uganda_save\n",
    "df_Uganda_save['MonthYearSort'] = df_Uganda_save['MonthYearSort'].astype(str)\n",
    "\n",
    "# Convert the string to a datetime format (using the first 6 characters, YYYYMM)\n",
    "df_Uganda_save['MonthYearSort'] = pd.to_datetime(df_Uganda_save['MonthYearSort'], format='%Y%m')\n",
    "\n",
    "# Now df_Uganda_save['MonthYearSort'] will be in datetime format (YYYY-MM)"
   ]
  },
  {
   "cell_type": "code",
   "execution_count": 63,
   "id": "2597fcd9-a338-43c4-a191-9b8bc15f1cdc",
   "metadata": {},
   "outputs": [
    {
     "data": {
      "text/plain": [
       "Timestamp('2024-02-01 00:00:00')"
      ]
     },
     "execution_count": 63,
     "metadata": {},
     "output_type": "execute_result"
    }
   ],
   "source": [
    "df_Uganda_save['MonthYearSort'].max()"
   ]
  },
  {
   "cell_type": "code",
   "execution_count": 33,
   "id": "4338e813-5843-44a8-a85d-939a57d4bf32",
   "metadata": {},
   "outputs": [],
   "source": [
    "file_path = '/Users/matthewmaslow/Desktop/ds-save-the-children/Retention_Uganda/df_Uganda_cleaned_x2.csv'\n",
    "\n",
    "df_Uganda_save.to_csv(file_path, index=False)\n"
   ]
  }
 ],
 "metadata": {
  "kernelspec": {
   "display_name": "Python 3 (ipykernel)",
   "language": "python",
   "name": "python3"
  },
  "language_info": {
   "codemirror_mode": {
    "name": "ipython",
    "version": 3
   },
   "file_extension": ".py",
   "mimetype": "text/x-python",
   "name": "python",
   "nbconvert_exporter": "python",
   "pygments_lexer": "ipython3",
   "version": "3.12.4"
  }
 },
 "nbformat": 4,
 "nbformat_minor": 5
}
