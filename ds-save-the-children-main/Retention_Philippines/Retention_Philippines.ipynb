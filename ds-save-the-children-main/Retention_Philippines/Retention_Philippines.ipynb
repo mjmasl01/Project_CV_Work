{
 "cells": [
  {
   "cell_type": "markdown",
   "id": "e1ba4910-f325-450e-8b19-5b43294ea694",
   "metadata": {},
   "source": [
    "Ideal Output & Deliverables\n",
    "\n",
    "The ideal output of this project will be:\n",
    "A dashboard that implements predictive models to find what helps/harms a student's progression through school. \n",
    "A final report answers the Base Question:\n",
    "What are the best predictors of student retention (i.e., the prevention of student dropouts)?\n",
    "\n",
    "https://docs.google.com/document/d/1XHfDhUMD1c868baqg_8Kk4j2PJzwHRX8Psf7PTKLgss/edit?tab=t.0"
   ]
  },
  {
   "cell_type": "code",
   "execution_count": 2,
   "id": "bdea72c2-740c-47d5-89d8-ac6d006af6d5",
   "metadata": {},
   "outputs": [],
   "source": [
    "import pandas as pd\n",
    "import numpy as np"
   ]
  },
  {
   "cell_type": "markdown",
   "id": "f767ed79-26c3-49fe-886c-41b3ad8c1ff9",
   "metadata": {},
   "source": [
    "# Philippines Data"
   ]
  },
  {
   "cell_type": "markdown",
   "id": "c0c63800-4e7c-4dbe-ba92-0a7d68e02f47",
   "metadata": {},
   "source": [
    "### Load in Data"
   ]
  },
  {
   "cell_type": "code",
   "execution_count": 5,
   "id": "34ed5ea2-657a-4c33-916d-2710e936ca86",
   "metadata": {},
   "outputs": [],
   "source": [
    "df_Philippines = pd.read_excel(\"/Users/matthewmaslow/Desktop/ds-save-the-children/Retention_Philippines/Philippines CuC Data - 2024 10 03.xlsx\",\n",
    "                                       sheet_name=\"_fact_student_attendance\")\n",
    "df_Philippines_ADD = pd.read_excel(\"/Users/matthewmaslow/Desktop/ds-save-the-children/Retention_Philippines/Philippines - Additional Data - 2024 10 23.xlsx\")"
   ]
  },
  {
   "cell_type": "code",
   "execution_count": 6,
   "id": "c5563263-9494-4d6f-a0c4-66aa990d244a",
   "metadata": {},
   "outputs": [
    {
     "name": "stderr",
     "output_type": "stream",
     "text": [
      "/var/folders/sf/c0xndf0951l35zqvq0zt2vy00000gn/T/ipykernel_89268/1438318490.py:11: FutureWarning: The behavior of array concatenation with empty entries is deprecated. In a future version, this will no longer exclude empty items when determining the result dtype. To retain the old behavior, exclude the empty entries before the concat operation.\n",
      "  df_Philippines[original_col] = df_Philippines[original_col].combine_first(df_Philippines[column])\n"
     ]
    },
    {
     "name": "stdout",
     "output_type": "stream",
     "text": [
      "<class 'pandas.core.frame.DataFrame'>\n",
      "RangeIndex: 292766 entries, 0 to 292765\n",
      "Data columns (total 37 columns):\n",
      " #   Column                   Non-Null Count   Dtype         \n",
      "---  ------                   --------------   -----         \n",
      " 0   Month                    292766 non-null  datetime64[ns]\n",
      " 1   GradeId                  292766 non-null  int64         \n",
      " 2   StudentIsPresent         292766 non-null  bool          \n",
      " 3   ReasonType               62187 non-null   object        \n",
      " 4   StudentAbsenseReason     62187 non-null   object        \n",
      " 5   StudentAttendanceDate    292766 non-null  datetime64[ns]\n",
      " 6   ClassID                  292766 non-null  int64         \n",
      " 7   ChildrenId               292766 non-null  int64         \n",
      " 8   SchoolId                 292766 non-null  int64         \n",
      " 9   AcademicYearId           292766 non-null  float64       \n",
      " 10  AcademicYearName         292670 non-null  object        \n",
      " 11  Year                     292766 non-null  float64       \n",
      " 12  Gender                   292766 non-null  object        \n",
      " 13  RecordId                 292766 non-null  int64         \n",
      " 14  ClassName                81752 non-null   object        \n",
      " 15  ClassId                  81752 non-null   float64       \n",
      " 16  ChildrenGender           292718 non-null  object        \n",
      " 17  ChildrenDateOfBirth      8681 non-null    object        \n",
      " 18  ChildrenAge              37992 non-null   float64       \n",
      " 19  Safety Status Category   170253 non-null  object        \n",
      " 20  IsCUCSatisfied?          170229 non-null  float64       \n",
      " 21  WillingnessInCUC?        170220 non-null  object        \n",
      " 22  BirthOrder               35731 non-null   object        \n",
      " 23  PrimaryCaregiver         35731 non-null   object        \n",
      " 24  LanguangeAtHome          35664 non-null   object        \n",
      " 25  SpendTimeWithFamily      70946 non-null   object        \n",
      " 26  CalmWhenStress           35320 non-null   object        \n",
      " 27  SomeoneToTalkWhenStress  70788 non-null   object        \n",
      " 28  TellFamilyWhenStress     70606 non-null   object        \n",
      " 29  FeelingSad               35320 non-null   object        \n",
      " 30  HowResolveProblem        70947 non-null   object        \n",
      " 31  WhoResolveProblem        70981 non-null   object        \n",
      " 32  OtherLanguangeAtHome     1346 non-null    object        \n",
      " 33  Project                  292718 non-null  object        \n",
      " 34  Cycle                    292718 non-null  float64       \n",
      " 35  AssessorID               292718 non-null  float64       \n",
      " 36  DistrictID               292718 non-null  float64       \n",
      "dtypes: bool(1), datetime64[ns](2), float64(8), int64(5), object(21)\n",
      "memory usage: 80.7+ MB\n"
     ]
    }
   ],
   "source": [
    "# Merge the DataFrames with custom suffixes\n",
    "df_Philippines = df_Philippines.merge(\n",
    "    df_Philippines_ADD, \n",
    "    on='ChildrenId', \n",
    "    how='left', \n",
    "    suffixes=('', '_dup')\n",
    ")\n",
    "for column in df_Philippines.columns:\n",
    "    if column.endswith('_dup'):\n",
    "        original_col = column[:-4]\n",
    "        df_Philippines[original_col] = df_Philippines[original_col].combine_first(df_Philippines[column])\n",
    "        df_Philippines.drop(columns=[column], inplace=True)\n",
    "df_Philippines.info()"
   ]
  },
  {
   "cell_type": "code",
   "execution_count": 7,
   "id": "61717197-bea1-4d23-8e8e-5afc991ab5c1",
   "metadata": {},
   "outputs": [
    {
     "data": {
      "text/html": [
       "<div>\n",
       "<style scoped>\n",
       "    .dataframe tbody tr th:only-of-type {\n",
       "        vertical-align: middle;\n",
       "    }\n",
       "\n",
       "    .dataframe tbody tr th {\n",
       "        vertical-align: top;\n",
       "    }\n",
       "\n",
       "    .dataframe thead th {\n",
       "        text-align: right;\n",
       "    }\n",
       "</style>\n",
       "<table border=\"1\" class=\"dataframe\">\n",
       "  <thead>\n",
       "    <tr style=\"text-align: right;\">\n",
       "      <th></th>\n",
       "      <th>Month</th>\n",
       "      <th>GradeId</th>\n",
       "      <th>StudentIsPresent</th>\n",
       "      <th>ReasonType</th>\n",
       "      <th>StudentAbsenseReason</th>\n",
       "      <th>StudentAttendanceDate</th>\n",
       "      <th>ClassID</th>\n",
       "      <th>ChildrenId</th>\n",
       "      <th>SchoolId</th>\n",
       "      <th>AcademicYearId</th>\n",
       "      <th>...</th>\n",
       "      <th>SomeoneToTalkWhenStress</th>\n",
       "      <th>TellFamilyWhenStress</th>\n",
       "      <th>FeelingSad</th>\n",
       "      <th>HowResolveProblem</th>\n",
       "      <th>WhoResolveProblem</th>\n",
       "      <th>OtherLanguangeAtHome</th>\n",
       "      <th>Project</th>\n",
       "      <th>Cycle</th>\n",
       "      <th>AssessorID</th>\n",
       "      <th>DistrictID</th>\n",
       "    </tr>\n",
       "  </thead>\n",
       "  <tbody>\n",
       "    <tr>\n",
       "      <th>0</th>\n",
       "      <td>2023-05-01</td>\n",
       "      <td>14</td>\n",
       "      <td>True</td>\n",
       "      <td>NaN</td>\n",
       "      <td>NaN</td>\n",
       "      <td>2023-05-08</td>\n",
       "      <td>557</td>\n",
       "      <td>4508</td>\n",
       "      <td>89</td>\n",
       "      <td>7.0</td>\n",
       "      <td>...</td>\n",
       "      <td>3. Don’t know</td>\n",
       "      <td>3. Don’t know</td>\n",
       "      <td>NaN</td>\n",
       "      <td>3. Don’t know</td>\n",
       "      <td>1. Yes</td>\n",
       "      <td>NaN</td>\n",
       "      <td>Sarangani</td>\n",
       "      <td>1.0</td>\n",
       "      <td>345.0</td>\n",
       "      <td>2.0</td>\n",
       "    </tr>\n",
       "    <tr>\n",
       "      <th>1</th>\n",
       "      <td>2023-05-01</td>\n",
       "      <td>14</td>\n",
       "      <td>True</td>\n",
       "      <td>NaN</td>\n",
       "      <td>NaN</td>\n",
       "      <td>2023-05-08</td>\n",
       "      <td>557</td>\n",
       "      <td>4518</td>\n",
       "      <td>89</td>\n",
       "      <td>7.0</td>\n",
       "      <td>...</td>\n",
       "      <td>NaN</td>\n",
       "      <td>NaN</td>\n",
       "      <td>NaN</td>\n",
       "      <td>NaN</td>\n",
       "      <td>NaN</td>\n",
       "      <td>NaN</td>\n",
       "      <td>Sarangani</td>\n",
       "      <td>1.0</td>\n",
       "      <td>345.0</td>\n",
       "      <td>2.0</td>\n",
       "    </tr>\n",
       "    <tr>\n",
       "      <th>2</th>\n",
       "      <td>2023-05-01</td>\n",
       "      <td>14</td>\n",
       "      <td>True</td>\n",
       "      <td>NaN</td>\n",
       "      <td>NaN</td>\n",
       "      <td>2023-05-08</td>\n",
       "      <td>557</td>\n",
       "      <td>4518</td>\n",
       "      <td>89</td>\n",
       "      <td>7.0</td>\n",
       "      <td>...</td>\n",
       "      <td>NaN</td>\n",
       "      <td>NaN</td>\n",
       "      <td>NaN</td>\n",
       "      <td>NaN</td>\n",
       "      <td>NaN</td>\n",
       "      <td>NaN</td>\n",
       "      <td>Sarangani</td>\n",
       "      <td>1.0</td>\n",
       "      <td>384.0</td>\n",
       "      <td>2.0</td>\n",
       "    </tr>\n",
       "    <tr>\n",
       "      <th>3</th>\n",
       "      <td>2023-05-01</td>\n",
       "      <td>14</td>\n",
       "      <td>True</td>\n",
       "      <td>NaN</td>\n",
       "      <td>NaN</td>\n",
       "      <td>2023-05-08</td>\n",
       "      <td>557</td>\n",
       "      <td>4518</td>\n",
       "      <td>89</td>\n",
       "      <td>7.0</td>\n",
       "      <td>...</td>\n",
       "      <td>Yes</td>\n",
       "      <td>Yes</td>\n",
       "      <td>Yes</td>\n",
       "      <td>Yes</td>\n",
       "      <td>Yes</td>\n",
       "      <td>NaN</td>\n",
       "      <td>Sarangani</td>\n",
       "      <td>1.0</td>\n",
       "      <td>345.0</td>\n",
       "      <td>2.0</td>\n",
       "    </tr>\n",
       "    <tr>\n",
       "      <th>4</th>\n",
       "      <td>2023-05-01</td>\n",
       "      <td>14</td>\n",
       "      <td>True</td>\n",
       "      <td>NaN</td>\n",
       "      <td>NaN</td>\n",
       "      <td>2023-05-08</td>\n",
       "      <td>557</td>\n",
       "      <td>4518</td>\n",
       "      <td>89</td>\n",
       "      <td>7.0</td>\n",
       "      <td>...</td>\n",
       "      <td>1. Yes</td>\n",
       "      <td>2. No</td>\n",
       "      <td>NaN</td>\n",
       "      <td>2. No</td>\n",
       "      <td>1. Yes</td>\n",
       "      <td>NaN</td>\n",
       "      <td>Sarangani</td>\n",
       "      <td>1.0</td>\n",
       "      <td>384.0</td>\n",
       "      <td>2.0</td>\n",
       "    </tr>\n",
       "  </tbody>\n",
       "</table>\n",
       "<p>5 rows × 37 columns</p>\n",
       "</div>"
      ],
      "text/plain": [
       "       Month  GradeId  StudentIsPresent ReasonType StudentAbsenseReason  \\\n",
       "0 2023-05-01       14              True        NaN                  NaN   \n",
       "1 2023-05-01       14              True        NaN                  NaN   \n",
       "2 2023-05-01       14              True        NaN                  NaN   \n",
       "3 2023-05-01       14              True        NaN                  NaN   \n",
       "4 2023-05-01       14              True        NaN                  NaN   \n",
       "\n",
       "  StudentAttendanceDate  ClassID  ChildrenId  SchoolId  AcademicYearId  ...  \\\n",
       "0            2023-05-08      557        4508        89             7.0  ...   \n",
       "1            2023-05-08      557        4518        89             7.0  ...   \n",
       "2            2023-05-08      557        4518        89             7.0  ...   \n",
       "3            2023-05-08      557        4518        89             7.0  ...   \n",
       "4            2023-05-08      557        4518        89             7.0  ...   \n",
       "\n",
       "  SomeoneToTalkWhenStress  TellFamilyWhenStress FeelingSad  HowResolveProblem  \\\n",
       "0           3. Don’t know         3. Don’t know        NaN      3. Don’t know   \n",
       "1                     NaN                   NaN        NaN                NaN   \n",
       "2                     NaN                   NaN        NaN                NaN   \n",
       "3                     Yes                   Yes        Yes                Yes   \n",
       "4                  1. Yes                 2. No        NaN              2. No   \n",
       "\n",
       "  WhoResolveProblem  OtherLanguangeAtHome    Project Cycle  AssessorID  \\\n",
       "0            1. Yes                   NaN  Sarangani   1.0       345.0   \n",
       "1               NaN                   NaN  Sarangani   1.0       345.0   \n",
       "2               NaN                   NaN  Sarangani   1.0       384.0   \n",
       "3               Yes                   NaN  Sarangani   1.0       345.0   \n",
       "4            1. Yes                   NaN  Sarangani   1.0       384.0   \n",
       "\n",
       "  DistrictID  \n",
       "0        2.0  \n",
       "1        2.0  \n",
       "2        2.0  \n",
       "3        2.0  \n",
       "4        2.0  \n",
       "\n",
       "[5 rows x 37 columns]"
      ]
     },
     "execution_count": 7,
     "metadata": {},
     "output_type": "execute_result"
    }
   ],
   "source": [
    "df_Philippines.head()"
   ]
  },
  {
   "cell_type": "markdown",
   "id": "addd6e46-ab37-4942-9bb3-08c5645cd4be",
   "metadata": {},
   "source": [
    "### Data Prep"
   ]
  },
  {
   "cell_type": "code",
   "execution_count": 9,
   "id": "a073ae88-9f2f-427f-ae23-e284152ac1aa",
   "metadata": {},
   "outputs": [],
   "source": [
    "# Convert boolean column(s) to int64 (False = 0, True = 1)\n",
    "boolean_columns = df_Philippines.select_dtypes(include='bool').columns\n",
    "df_Philippines[boolean_columns] = df_Philippines[boolean_columns].astype(int)"
   ]
  },
  {
   "cell_type": "code",
   "execution_count": 10,
   "id": "12c25b8b-b34b-4741-bb0e-9c8d753c972a",
   "metadata": {},
   "outputs": [
    {
     "name": "stdout",
     "output_type": "stream",
     "text": [
      "SomeoneToTalkWhenStress counts:\n",
      "SomeoneToTalkWhenStress\n",
      "Yes                 54657\n",
      "No                  10956\n",
      "Don’t know           2997\n",
      "Refuse to answer     2178\n",
      "Name: count, dtype: int64\n",
      "\n",
      "SpendTimeWithFamily counts:\n",
      "SpendTimeWithFamily\n",
      "Yes                 68213\n",
      "Refuse to answer     1470\n",
      "No                   1056\n",
      "Don’t know            207\n",
      "Name: count, dtype: int64\n",
      "\n",
      "TellFamilyWhenStress counts:\n",
      "TellFamilyWhenStress\n",
      "Yes                 54231\n",
      "No                  11365\n",
      "Don’t know           2868\n",
      "Refuse to answer     2142\n",
      "Name: count, dtype: int64\n",
      "\n",
      "HowResolveProblem counts:\n",
      "HowResolveProblem\n",
      "Yes                 39224\n",
      "No                  19963\n",
      "Don’t know           7493\n",
      "Refuse to answer     4267\n",
      "Name: count, dtype: int64\n",
      "\n",
      "WhoResolveProblem counts:\n",
      "WhoResolveProblem\n",
      "Yes                 59442\n",
      "Don’t know           4573\n",
      "No                   3492\n",
      "Refuse to answer     3474\n",
      "Name: count, dtype: int64\n",
      "\n"
     ]
    }
   ],
   "source": [
    "# Fixing faulty entries in columns.....\n",
    "#   ['SomeoneToTalkWhenStress', 'SpendTimeWithFamily', 'TellFamilyWhenStress', 'HowResolveProblem', 'WhoResolveProblem']\n",
    "who_resolve_problem_map = {\n",
    "    'Yes': 'Yes',\n",
    "    '1. Yes': 'Yes',\n",
    "    '2. No': 'No',\n",
    "    'No': 'No',\n",
    "    '3. Don’t know': 'Don’t know',\n",
    "    'Refuse to answer': 'Refuse to answer'\n",
    "}\n",
    "\n",
    "columns_to_clean = ['SomeoneToTalkWhenStress', 'SpendTimeWithFamily', 'TellFamilyWhenStress', 'HowResolveProblem', 'WhoResolveProblem']\n",
    "\n",
    "for col in columns_to_clean:\n",
    "    df_Philippines[col] = df_Philippines[col].replace(who_resolve_problem_map)\n",
    "\n",
    "for col in columns_to_clean:\n",
    "    print(f\"{col} counts:\\n{df_Philippines[col].value_counts()}\\n\")"
   ]
  },
  {
   "cell_type": "code",
   "execution_count": 11,
   "id": "7b4feafb-3bed-48a9-aaa8-90073553026d",
   "metadata": {},
   "outputs": [],
   "source": [
    "# converting date columns to make them numeric\n",
    "df_Philippines = df_Philippines.drop(columns=[\"Month\"])\n",
    "df_Philippines['Month'] = df_Philippines['StudentAttendanceDate'].dt.month\n",
    "df_Philippines['Day'] = df_Philippines['StudentAttendanceDate'].dt.day\n",
    "df_Philippines['Year'] = df_Philippines['StudentAttendanceDate'].dt.year\n",
    "df_Philippines = df_Philippines.drop(columns=[\"StudentAttendanceDate\"])"
   ]
  },
  {
   "cell_type": "code",
   "execution_count": 12,
   "id": "6c7bd840-5f3d-47f6-a186-9a269c9561fc",
   "metadata": {},
   "outputs": [
    {
     "name": "stdout",
     "output_type": "stream",
     "text": [
      "File saved successfully at /Users/matthewmaslow/Desktop/ds-save-the-children/Retention_Philippines/df_Philippines_combined.xlsx\n"
     ]
    }
   ],
   "source": [
    "file_path = '/Users/matthewmaslow/Desktop/ds-save-the-children/Retention_Philippines/df_Philippines_combined.xlsx'\n",
    "\n",
    "df_Philippines.to_excel(file_path, index=False)\n",
    "\n",
    "print(f\"File saved successfully at {file_path}\")\n"
   ]
  },
  {
   "cell_type": "code",
   "execution_count": 13,
   "id": "a7a6ef23-a9e1-48f5-83da-a590b7aabb7b",
   "metadata": {},
   "outputs": [
    {
     "name": "stdout",
     "output_type": "stream",
     "text": [
      "File saved successfully at /Users/matthewmaslow/Desktop/ds-save-the-children/Retention_Philippines/df_Philippines_combined.csv\n"
     ]
    }
   ],
   "source": [
    "file_path = '/Users/matthewmaslow/Desktop/ds-save-the-children/Retention_Philippines/df_Philippines_combined.csv'\n",
    "\n",
    "df_Philippines.to_csv(file_path, index=False)\n",
    "\n",
    "print(f\"File saved successfully at {file_path}\")\n"
   ]
  },
  {
   "cell_type": "code",
   "execution_count": 14,
   "id": "1b2528cb-e9ab-4581-8b43-0ed5441aa026",
   "metadata": {},
   "outputs": [
    {
     "name": "stdout",
     "output_type": "stream",
     "text": [
      "<class 'pandas.core.frame.DataFrame'>\n",
      "RangeIndex: 292766 entries, 0 to 292765\n",
      "Data columns (total 37 columns):\n",
      " #   Column                   Non-Null Count   Dtype  \n",
      "---  ------                   --------------   -----  \n",
      " 0   GradeId                  292766 non-null  int64  \n",
      " 1   StudentIsPresent         292766 non-null  int64  \n",
      " 2   ReasonType               62187 non-null   object \n",
      " 3   StudentAbsenseReason     62187 non-null   object \n",
      " 4   ClassID                  292766 non-null  int64  \n",
      " 5   ChildrenId               292766 non-null  int64  \n",
      " 6   SchoolId                 292766 non-null  int64  \n",
      " 7   AcademicYearId           292766 non-null  float64\n",
      " 8   AcademicYearName         292670 non-null  object \n",
      " 9   Year                     292766 non-null  int32  \n",
      " 10  Gender                   292766 non-null  object \n",
      " 11  RecordId                 292766 non-null  int64  \n",
      " 12  ClassName                81752 non-null   object \n",
      " 13  ClassId                  81752 non-null   float64\n",
      " 14  ChildrenGender           292718 non-null  object \n",
      " 15  ChildrenDateOfBirth      8681 non-null    object \n",
      " 16  ChildrenAge              37992 non-null   float64\n",
      " 17  Safety Status Category   170253 non-null  object \n",
      " 18  IsCUCSatisfied?          170229 non-null  float64\n",
      " 19  WillingnessInCUC?        170220 non-null  object \n",
      " 20  BirthOrder               35731 non-null   object \n",
      " 21  PrimaryCaregiver         35731 non-null   object \n",
      " 22  LanguangeAtHome          35664 non-null   object \n",
      " 23  SpendTimeWithFamily      70946 non-null   object \n",
      " 24  CalmWhenStress           35320 non-null   object \n",
      " 25  SomeoneToTalkWhenStress  70788 non-null   object \n",
      " 26  TellFamilyWhenStress     70606 non-null   object \n",
      " 27  FeelingSad               35320 non-null   object \n",
      " 28  HowResolveProblem        70947 non-null   object \n",
      " 29  WhoResolveProblem        70981 non-null   object \n",
      " 30  OtherLanguangeAtHome     1346 non-null    object \n",
      " 31  Project                  292718 non-null  object \n",
      " 32  Cycle                    292718 non-null  float64\n",
      " 33  AssessorID               292718 non-null  float64\n",
      " 34  DistrictID               292718 non-null  float64\n",
      " 35  Month                    292766 non-null  int32  \n",
      " 36  Day                      292766 non-null  int32  \n",
      "dtypes: float64(7), int32(3), int64(6), object(21)\n",
      "memory usage: 79.3+ MB\n"
     ]
    }
   ],
   "source": [
    "df_Philippines.info()"
   ]
  },
  {
   "cell_type": "code",
   "execution_count": 15,
   "id": "f7854878-86c5-4703-bae8-e61f2d05a58c",
   "metadata": {},
   "outputs": [
    {
     "data": {
      "text/plain": [
       "StudentIsPresent           1.000000\n",
       "Day                        0.033811\n",
       "IsCUCSatisfied?            0.009845\n",
       "RecordId                  -0.002591\n",
       "Month                     -0.003440\n",
       "BirthOrder                -0.005879\n",
       "AssessorID                -0.007452\n",
       "GradeId                   -0.009671\n",
       "AcademicYearId            -0.012524\n",
       "ClassID                   -0.013670\n",
       "ClassId                   -0.017808\n",
       "ChildrenId                -0.020473\n",
       "SchoolId                  -0.037769\n",
       "DistrictID                -0.060286\n",
       "ChildrenAge               -0.089163\n",
       "ReasonType                      NaN\n",
       "StudentAbsenseReason            NaN\n",
       "AcademicYearName                NaN\n",
       "Year                            NaN\n",
       "Gender                          NaN\n",
       "ClassName                       NaN\n",
       "ChildrenGender                  NaN\n",
       "ChildrenDateOfBirth             NaN\n",
       "Safety Status Category          NaN\n",
       "WillingnessInCUC?               NaN\n",
       "PrimaryCaregiver                NaN\n",
       "LanguangeAtHome                 NaN\n",
       "SpendTimeWithFamily             NaN\n",
       "CalmWhenStress                  NaN\n",
       "SomeoneToTalkWhenStress         NaN\n",
       "TellFamilyWhenStress            NaN\n",
       "FeelingSad                      NaN\n",
       "HowResolveProblem               NaN\n",
       "WhoResolveProblem               NaN\n",
       "OtherLanguangeAtHome            NaN\n",
       "Project                         NaN\n",
       "Cycle                           NaN\n",
       "Name: StudentIsPresent, dtype: float64"
      ]
     },
     "execution_count": 15,
     "metadata": {},
     "output_type": "execute_result"
    }
   ],
   "source": [
    "numeric_df_Philippines = df_Philippines.apply(pd.to_numeric, errors='coerce')\n",
    "correlation_matrix = numeric_df_Philippines.corr()\n",
    "\n",
    "target_correlation = correlation_matrix['StudentIsPresent'].sort_values(ascending=False)\n",
    "target_correlation\n"
   ]
  },
  {
   "cell_type": "code",
   "execution_count": 16,
   "id": "871bbe3f-b032-44cf-ace0-0c08bb224df5",
   "metadata": {},
   "outputs": [
    {
     "name": "stderr",
     "output_type": "stream",
     "text": [
      "/var/folders/sf/c0xndf0951l35zqvq0zt2vy00000gn/T/ipykernel_89268/3094654829.py:40: FutureWarning: A value is trying to be set on a copy of a DataFrame or Series through chained assignment using an inplace method.\n",
      "The behavior will change in pandas 3.0. This inplace method will never work because the intermediate object on which we are setting values always behaves as a copy.\n",
      "\n",
      "For example, when doing 'df[col].method(value, inplace=True)', try using 'df.method({col: value}, inplace=True)' or df[col] = df[col].method(value) instead, to perform the operation inplace on the original object.\n",
      "\n",
      "\n",
      "  df_Philippines[col].fillna(df_Philippines[col].mode()[0], inplace=True)\n",
      "/var/folders/sf/c0xndf0951l35zqvq0zt2vy00000gn/T/ipykernel_89268/3094654829.py:10: RuntimeWarning: invalid value encountered in divide\n",
      "  return np.sqrt(chi2 / (n * (min(confusion_matrix.shape) - 1)))\n"
     ]
    },
    {
     "data": {
      "text/plain": [
       "{'ReasonType': 0.47821438500720936,\n",
       " 'StudentAbsenseReason': 0.5435572549330345,\n",
       " 'AcademicYearName': 0.012321603624462442,\n",
       " 'Gender': 0.03321631588136081,\n",
       " 'ClassName': 0.013824430038512003,\n",
       " 'ChildrenGender': 0.01876476529590279,\n",
       " 'ChildrenDateOfBirth': 0.01754407790759092,\n",
       " 'Safety Status Category': 0.012562665094657807,\n",
       " 'WillingnessInCUC?': 0.008376792875652185,\n",
       " 'BirthOrder': 0.013835475514132575,\n",
       " 'PrimaryCaregiver': 0.007826951432289396,\n",
       " 'LanguangeAtHome': 0.02704632292237278,\n",
       " 'SpendTimeWithFamily': 0.023265448872402845,\n",
       " 'CalmWhenStress': 0.009419442940473154,\n",
       " 'SomeoneToTalkWhenStress': 0.0191566709388103,\n",
       " 'TellFamilyWhenStress': 0.021282455385293105,\n",
       " 'FeelingSad': 0.017198444454691902,\n",
       " 'HowResolveProblem': 0.009853404475343445,\n",
       " 'WhoResolveProblem': 0.01928389216715916,\n",
       " 'OtherLanguangeAtHome': 0.009840376573964343,\n",
       " 'Project': nan}"
      ]
     },
     "execution_count": 16,
     "metadata": {},
     "output_type": "execute_result"
    }
   ],
   "source": [
    "import numpy as np\n",
    "from scipy.stats import chi2_contingency\n",
    "import pandas as pd\n",
    "\n",
    "# Function to calculate Cramér's V\n",
    "def cramers_v(x, y):\n",
    "    confusion_matrix = pd.crosstab(x, y)\n",
    "    chi2 = chi2_contingency(confusion_matrix)[0]\n",
    "    n = confusion_matrix.sum().sum()\n",
    "    return np.sqrt(chi2 / (n * (min(confusion_matrix.shape) - 1)))\n",
    "\n",
    "# Updated categorical columns based on df_Philippines\n",
    "categorical_columns = [\n",
    "    \"ReasonType\",\n",
    "    \"StudentAbsenseReason\",\n",
    "    \"AcademicYearName\",\n",
    "    \"Gender\",\n",
    "    \"ClassName\",\n",
    "    \"ChildrenGender\",\n",
    "    \"ChildrenDateOfBirth\",\n",
    "    \"Safety Status Category\",\n",
    "    \"WillingnessInCUC?\",\n",
    "    \"BirthOrder\",\n",
    "    \"PrimaryCaregiver\",\n",
    "    \"LanguangeAtHome\",\n",
    "    \"SpendTimeWithFamily\",\n",
    "    \"CalmWhenStress\",\n",
    "    \"SomeoneToTalkWhenStress\",\n",
    "    \"TellFamilyWhenStress\",\n",
    "    \"FeelingSad\",\n",
    "    \"HowResolveProblem\",\n",
    "    \"WhoResolveProblem\",\n",
    "    \"OtherLanguangeAtHome\",\n",
    "    \"Project\"\n",
    "]\n",
    "\n",
    "# Fill missing values with the mode (most frequent value) for each categorical column\n",
    "for col in categorical_columns:\n",
    "    if df_Philippines[col].isnull().any():\n",
    "        df_Philippines[col].fillna(df_Philippines[col].mode()[0], inplace=True)\n",
    "\n",
    "# Calculate Cramér's V for each categorical column against 'StudentIsPresent'\n",
    "cramers_v_results = {col: cramers_v(df_Philippines[col], df_Philippines['StudentIsPresent']) for col in categorical_columns}\n",
    "cramers_v_results\n"
   ]
  },
  {
   "cell_type": "markdown",
   "id": "c3f6ded2-ce4d-401c-9bbd-698cbe0d2dcb",
   "metadata": {},
   "source": [
    "### Model Training"
   ]
  },
  {
   "cell_type": "code",
   "execution_count": 18,
   "id": "08f2a47a-c628-4d3f-84cd-eb18f401cc31",
   "metadata": {},
   "outputs": [
    {
     "name": "stdout",
     "output_type": "stream",
     "text": [
      "Using device: cpu\n"
     ]
    }
   ],
   "source": [
    "# Set device based on GPU availability\n",
    "import torch\n",
    "\n",
    "device = torch.device(\"cuda\" if torch.cuda.is_available() else \"cpu\")\n",
    "print(f\"Using device: {device}\")\n",
    "\n",
    "# Utility function to transfer tensors to the selected device\n",
    "def to_device(tensor):\n",
    "    return tensor.to(device)"
   ]
  },
  {
   "cell_type": "code",
   "execution_count": 19,
   "id": "729daea4-0c62-450f-8426-dc7dc2ffc0a1",
   "metadata": {},
   "outputs": [
    {
     "data": {
      "text/plain": [
       "StudentIsPresent\n",
       "1    230579\n",
       "0     62187\n",
       "Name: count, dtype: int64"
      ]
     },
     "execution_count": 19,
     "metadata": {},
     "output_type": "execute_result"
    }
   ],
   "source": [
    "df_Philippines['StudentIsPresent'].value_counts()"
   ]
  },
  {
   "cell_type": "code",
   "execution_count": 38,
   "id": "56648e0b-84d2-4fef-87d3-93d6581b1a6c",
   "metadata": {},
   "outputs": [
    {
     "name": "stdout",
     "output_type": "stream",
     "text": [
      "LogisticRegression....\n",
      "Validation Accuracy: 0.98\n",
      "Test Accuracy: 0.95\n",
      "Classification Report:\n",
      "              precision    recall  f1-score   support\n",
      "\n",
      "           0       0.84      0.96      0.90     12425\n",
      "           1       0.99      0.95      0.97     46129\n",
      "\n",
      "    accuracy                           0.95     58554\n",
      "   macro avg       0.92      0.96      0.93     58554\n",
      "weighted avg       0.96      0.95      0.96     58554\n",
      "\n"
     ]
    },
    {
     "name": "stderr",
     "output_type": "stream",
     "text": [
      "/opt/anaconda3/lib/python3.12/site-packages/sklearn/preprocessing/_encoders.py:241: UserWarning: Found unknown categories in columns [2] during transform. These unknown categories will be encoded as all zeros\n",
      "  warnings.warn(\n"
     ]
    },
    {
     "data": {
      "image/png": "[encoded data removed]",
      "text/plain": [
       "<Figure size 640x480 with 2 Axes>"
      ]
     },
     "metadata": {},
     "output_type": "display_data"
    },
    {
     "name": "stdout",
     "output_type": "stream",
     "text": [
      "\n",
      "==================================================\n",
      "\n"
     ]
    },
    {
     "name": "stderr",
     "output_type": "stream",
     "text": [
      "/opt/anaconda3/lib/python3.12/site-packages/sklearn/preprocessing/_encoders.py:241: UserWarning: Found unknown categories in columns [2] during transform. These unknown categories will be encoded as all zeros\n",
      "  warnings.warn(\n"
     ]
    },
    {
     "name": "stdout",
     "output_type": "stream",
     "text": [
      "RandomForestClassifier....\n",
      "Validation Accuracy: 0.80\n",
      "Test Accuracy: 0.79\n",
      "Classification Report:\n",
      "              precision    recall  f1-score   support\n",
      "\n",
      "           0       0.50      0.42      0.46     12425\n",
      "           1       0.85      0.89      0.87     46129\n",
      "\n",
      "    accuracy                           0.79     58554\n",
      "   macro avg       0.68      0.66      0.66     58554\n",
      "weighted avg       0.78      0.79      0.78     58554\n",
      "\n"
     ]
    },
    {
     "data": {
      "image/png": "[encoded data removed]",
      "text/plain": [
       "<Figure size 640x480 with 2 Axes>"
      ]
     },
     "metadata": {},
     "output_type": "display_data"
    },
    {
     "name": "stdout",
     "output_type": "stream",
     "text": [
      "\n",
      "==================================================\n",
      "\n",
      "DecisionTreeClassifier....\n",
      "Validation Accuracy: 0.81\n",
      "Test Accuracy: 0.80\n",
      "Classification Report:\n",
      "              precision    recall  f1-score   support\n",
      "\n",
      "           0       0.61      0.22      0.32     12425\n",
      "           1       0.82      0.96      0.89     46129\n",
      "\n",
      "    accuracy                           0.80     58554\n",
      "   macro avg       0.71      0.59      0.60     58554\n",
      "weighted avg       0.78      0.80      0.77     58554\n",
      "\n"
     ]
    },
    {
     "name": "stderr",
     "output_type": "stream",
     "text": [
      "/opt/anaconda3/lib/python3.12/site-packages/sklearn/preprocessing/_encoders.py:241: UserWarning: Found unknown categories in columns [2] during transform. These unknown categories will be encoded as all zeros\n",
      "  warnings.warn(\n"
     ]
    },
    {
     "data": {
      "image/png": "[encoded data removed]",
      "text/plain": [
       "<Figure size 640x480 with 2 Axes>"
      ]
     },
     "metadata": {},
     "output_type": "display_data"
    },
    {
     "name": "stdout",
     "output_type": "stream",
     "text": [
      "\n",
      "==================================================\n",
      "\n"
     ]
    }
   ],
   "source": [
    "from sklearn.pipeline import Pipeline\n",
    "from sklearn.model_selection import train_test_split\n",
    "from sklearn.linear_model import LogisticRegression\n",
    "from sklearn.ensemble import RandomForestClassifier\n",
    "from sklearn.tree import DecisionTreeClassifier\n",
    "from sklearn.metrics import classification_report, accuracy_score, confusion_matrix, ConfusionMatrixDisplay\n",
    "from sklearn.preprocessing import OneHotEncoder\n",
    "from sklearn.impute import SimpleImputer\n",
    "from sklearn.compose import make_column_transformer\n",
    "from imblearn.pipeline import Pipeline as ImbPipeline\n",
    "from imblearn.under_sampling import RandomUnderSampler\n",
    "import matplotlib.pyplot as plt\n",
    "\n",
    "predictors = [\n",
    "    'GradeId',\n",
    "    'ChildrenId',\n",
    "    'RecordId',\n",
    "    'AcademicYearName',\n",
    "    'FeelingSad',\n",
    "    'TellFamilyWhenStress',\n",
    "    'Month',\n",
    "    'Cycle'\n",
    "]\n",
    "\n",
    "df_Philippines_pred = df_Philippines[['StudentIsPresent'] + predictors]\n",
    "\n",
    "transformer = make_column_transformer(\n",
    "    (Pipeline([\n",
    "        ('imputer', SimpleImputer(strategy='most_frequent')),\n",
    "        ('encoder', OneHotEncoder(drop='first', handle_unknown='ignore'))\n",
    "    ]), predictors),\n",
    "    remainder=\"passthrough\"\n",
    ")\n",
    "\n",
    "X = df_Philippines_pred.drop(columns=[\"StudentIsPresent\"])\n",
    "y = df_Philippines_pred[\"StudentIsPresent\"]\n",
    "\n",
    "# Train/test split\n",
    "X_train, X_test, y_train, y_test = train_test_split(X, y, test_size=0.2, random_state=42)\n",
    "\n",
    "logistic_model = LogisticRegression(max_iter=1000, random_state=0, class_weight='balanced')\n",
    "rf_model = RandomForestClassifier(\n",
    "    random_state=0,\n",
    "    class_weight='balanced',\n",
    "    n_jobs=1,\n",
    "    n_estimators=100,\n",
    "    max_depth=25\n",
    ")\n",
    "dt_model = DecisionTreeClassifier(\n",
    "    random_state=0,\n",
    "    class_weight='balanced',\n",
    "    max_depth=100,          \n",
    "    min_samples_split=5,  \n",
    "    min_samples_leaf=5        \n",
    ")\n",
    "\n",
    "def evaluate_model(model, X_train, X_test, y_train, y_test):\n",
    "    pipeline = ImbPipeline([\n",
    "        ('preprocessor', transformer),\n",
    "        ('undersampler', RandomUnderSampler(sampling_strategy='not majority')),\n",
    "        ('model', model)\n",
    "    ])\n",
    "\n",
    "    pipeline.fit(X_train, y_train)\n",
    "    y_train_pred = pipeline.predict(X_train)\n",
    "    y_test_pred = pipeline.predict(X_test)\n",
    "\n",
    "    train_accuracy = accuracy_score(y_train, y_train_pred)\n",
    "    test_accuracy = accuracy_score(y_test, y_test_pred)\n",
    "    print(f\"{model.__class__.__name__}....\")\n",
    "    print(f\"Validation Accuracy: {train_accuracy:.2f}\")\n",
    "    print(f\"Test Accuracy: {test_accuracy:.2f}\")\n",
    "\n",
    "    print(\"Classification Report:\")\n",
    "    print(classification_report(y_test, y_test_pred))\n",
    "\n",
    "    conf_matrix = confusion_matrix(y_test, y_test_pred)\n",
    "    labels = ['Absent', 'Present']\n",
    "    disp = ConfusionMatrixDisplay(confusion_matrix=conf_matrix, display_labels=labels)\n",
    "    disp.plot(cmap='Blues', values_format='d')\n",
    "    plt.title(f\"{model.__class__.__name__} Confusion Matrix\")\n",
    "    plt.show()\n",
    "\n",
    "    print(\"\\n\" + \"=\"*50 + \"\\n\")\n",
    "    \n",
    "evaluate_model(logistic_model, X_train, X_test, y_train, y_test)\n",
    "evaluate_model(rf_model, X_train, X_test, y_train, y_test)\n",
    "evaluate_model(dt_model, X_train, X_test, y_train, y_test)"
   ]
  }
 ],
 "metadata": {
  "kernelspec": {
   "display_name": "Python 3 (ipykernel)",
   "language": "python",
   "name": "python3"
  },
  "language_info": {
   "codemirror_mode": {
    "name": "ipython",
    "version": 3
   },
   "file_extension": ".py",
   "mimetype": "text/x-python",
   "name": "python",
   "nbconvert_exporter": "python",
   "pygments_lexer": "ipython3",
   "version": "3.12.4"
  }
 },
 "nbformat": 4,
 "nbformat_minor": 5
}
