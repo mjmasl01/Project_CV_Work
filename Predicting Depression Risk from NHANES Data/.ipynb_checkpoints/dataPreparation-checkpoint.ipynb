{
 "cells": [
  {
   "cell_type": "markdown",
   "id": "9b0f0953-d551-414a-a230-48f09e01121d",
   "metadata": {},
   "source": [
    "# Load in Data"
   ]
  },
  {
   "cell_type": "code",
   "execution_count": 1,
   "id": "a28d62d4-c7e8-4ca6-93b7-3dc0ffd02391",
   "metadata": {},
   "outputs": [
    {
     "name": "stdout",
     "output_type": "stream",
     "text": [
      "Loaded with pyreadstat: mhDepressionScreener_nhanes.xpt\n",
      "Loaded with pyreadstat: demographics_nhanes.xpt\n",
      "Loaded with pyreadstat: income_nhanes.xpt\n",
      "Loaded with pyreadstat: sleepDisorders_nhanes.xpt\n",
      "Loaded with pyreadstat: smokingBehavior_nhanes.xpt\n",
      "Loaded with pyreadstat: alcoholUse_nhanes.xpt\n",
      "Loaded with pyreadstat: physicalActivity_nhanes.xpt\n",
      "\n",
      "Merged file saved to: /Users/matthewmaslow/desktop/DS-596-Special Topics Medical Science/Final Project/DataCSV/nhanes_cleaned_merged.csv\n",
      "Final shape: (6337, 25)\n"
     ]
    }
   ],
   "source": [
    "import os\n",
    "import pandas as pd\n",
    "import pyreadstat\n",
    "\n",
    "# Base folder paths\n",
    "base_folder = \"/Users/matthewmaslow/desktop/DS-596-Special Topics Medical Science/Final Project\"\n",
    "data_folder = os.path.join(base_folder, \"data\")\n",
    "output_folder = os.path.join(base_folder, \"DataCSV\")\n",
    "\n",
    "# Define selected columns per dataset\n",
    "selected_columns = {\n",
    "    \"mhDepressionScreener_nhanes.xpt\": [\"SEQN\", \"DPQ020\", \"DPQ060\", \"DPQ090\"],\n",
    "    \"demographics_nhanes.xpt\": [\"SEQN\", \"RIAGENDR\", \"RIDAGEYR\", \"RIDRETH3\", \"DMDEDUC2\", \"DMDMARTZ\", \"INDFMPIR\"],\n",
    "    \"income_nhanes.xpt\": [\"SEQN\", \"INDFMMPI\", \"INDFMMPC\", \"INQ300\", \"IND310\"],\n",
    "    \"sleepDisorders_nhanes.xpt\": [\"SEQN\", \"SLD012\", \"SLD013\"],\n",
    "    \"smokingBehavior_nhanes.xpt\": [\"SEQN\", \"SMQ020\", \"SMQ040\", \"SMD650\"],\n",
    "    \"alcoholUse_nhanes.xpt\": [\"SEQN\", \"ALQ111\", \"ALQ121\", \"ALQ270\"],\n",
    "    \"physicalActivity_nhanes.xpt\": [\"SEQN\", \"PAD800\", \"PAD820\", \"PAD680\"]\n",
    "}\n",
    "\n",
    "# Load XPTs with fallback\n",
    "def load_selected_columns(file_path, columns):\n",
    "    try:\n",
    "        df, _ = pyreadstat.read_xport(file_path, usecols=columns)\n",
    "        print(f\"Loaded with pyreadstat: {os.path.basename(file_path)}\")\n",
    "    except Exception:\n",
    "        df = pd.read_sas(file_path, format='xport', encoding='latin1')\n",
    "        df = df[columns]\n",
    "        print(f\"Fallback to pandas: {os.path.basename(file_path)}\")\n",
    "    return df\n",
    "\n",
    "# Merge selected variables\n",
    "merged_df = None\n",
    "for file_name, cols in selected_columns.items():\n",
    "    path = os.path.join(data_folder, file_name)\n",
    "    df = load_selected_columns(path, cols)\n",
    "    merged_df = df if merged_df is None else pd.merge(merged_df, df, on=\"SEQN\", how=\"left\")\n",
    "\n",
    "# Save to DataCSV\n",
    "os.makedirs(output_folder, exist_ok=True)\n",
    "output_path = os.path.join(output_folder, \"nhanes_cleaned_merged.csv\")\n",
    "merged_df.to_csv(output_path, index=False)\n",
    "\n",
    "print(f\"\\nMerged file saved to: {output_path}\")\n",
    "print(f\"Final shape: {merged_df.shape}\")"
   ]
  },
  {
   "cell_type": "code",
   "execution_count": 2,
   "id": "de3b429c-a9c7-4073-911b-9aeb0ec41094",
   "metadata": {},
   "outputs": [
    {
     "name": "stdout",
     "output_type": "stream",
     "text": [
      "SEQN        float64\n",
      "DPQ020      float64\n",
      "DPQ060      float64\n",
      "DPQ090      float64\n",
      "RIAGENDR    float64\n",
      "RIDAGEYR    float64\n",
      "RIDRETH3    float64\n",
      "DMDEDUC2    float64\n",
      "DMDMARTZ    float64\n",
      "INDFMPIR    float64\n",
      "INDFMMPI    float64\n",
      "INDFMMPC    float64\n",
      "INQ300      float64\n",
      "IND310      float64\n",
      "SLD012      float64\n",
      "SLD013      float64\n",
      "SMQ020      float64\n",
      "SMQ040      float64\n",
      "SMD650      float64\n",
      "ALQ111      float64\n",
      "ALQ121      float64\n",
      "ALQ270      float64\n",
      "PAD800      float64\n",
      "PAD820      float64\n",
      "PAD680      float64\n",
      "dtype: object\n",
      "SEQN           0\n",
      "DPQ020       819\n",
      "DPQ060       827\n",
      "DPQ090       831\n",
      "RIAGENDR       0\n",
      "RIDAGEYR       0\n",
      "RIDRETH3       0\n",
      "DMDEDUC2     273\n",
      "DMDMARTZ     274\n",
      "INDFMPIR     831\n",
      "INDFMMPI    1286\n",
      "INDFMMPC     520\n",
      "INQ300       517\n",
      "IND310      3476\n",
      "SLD012        65\n",
      "SLD013        67\n",
      "SMQ020         2\n",
      "SMQ040      3819\n",
      "SMD650      5425\n",
      "ALQ111       856\n",
      "ALQ121      1415\n",
      "ALQ270      3971\n",
      "PAD800      1306\n",
      "PAD820      3460\n",
      "PAD680         6\n",
      "dtype: int64\n",
      "(6337, 25)\n",
      "       SEQN  DPQ020  DPQ060  DPQ090  RIAGENDR  RIDAGEYR  RIDRETH3  DMDEDUC2  \\\n",
      "0  130378.0     NaN     NaN     NaN       1.0      43.0       6.0       5.0   \n",
      "1  130379.0     0.0     0.0     0.0       1.0      66.0       3.0       5.0   \n",
      "2  130380.0     0.0     0.0     0.0       2.0      44.0       2.0       3.0   \n",
      "3  130386.0     0.0     1.0     0.0       1.0      34.0       1.0       4.0   \n",
      "4  130387.0     0.0     0.0     0.0       2.0      68.0       3.0       5.0   \n",
      "\n",
      "   DMDMARTZ  INDFMPIR  ...  SLD013  SMQ020  SMQ040  SMD650  ALQ111  ALQ121  \\\n",
      "0       1.0      5.00  ...     9.0     1.0     3.0     NaN     NaN     NaN   \n",
      "1       1.0      5.00  ...     9.0     1.0     3.0     NaN     1.0     2.0   \n",
      "2       1.0      1.41  ...     9.0     2.0     NaN     NaN     1.0    10.0   \n",
      "3       1.0      1.33  ...     8.0     1.0     3.0     NaN     1.0     4.0   \n",
      "4       3.0      1.32  ...     5.0     2.0     NaN     NaN     1.0     0.0   \n",
      "\n",
      "   ALQ270  PAD800  PAD820  PAD680  \n",
      "0     NaN    45.0    45.0   360.0  \n",
      "1     NaN    45.0    45.0   480.0  \n",
      "2     NaN    20.0     NaN   240.0  \n",
      "3     0.0    30.0    30.0   180.0  \n",
      "4     NaN     NaN     NaN  1200.0  \n",
      "\n",
      "[5 rows x 25 columns]\n"
     ]
    }
   ],
   "source": [
    "df = pd.read_csv(os.path.join(output_folder, \"nhanes_cleaned_merged.csv\"))\n",
    "\n",
    "print(df.dtypes)\n",
    "print(df.isnull().sum())\n",
    "print(df.shape)\n",
    "print(df.head())"
   ]
  },
  {
   "cell_type": "markdown",
   "id": "f9ff5cd6-4cd9-40da-a817-684cac800473",
   "metadata": {},
   "source": [
    "# Data Preparation"
   ]
  },
  {
   "cell_type": "code",
   "execution_count": 3,
   "id": "d3497c94-7d57-4d92-a12d-ea54b9d2f7fc",
   "metadata": {},
   "outputs": [],
   "source": [
    "df = df.dropna(subset=[\"DPQ020\", \"DPQ060\", \"DPQ090\"])"
   ]
  },
  {
   "cell_type": "code",
   "execution_count": 4,
   "id": "8993cab7-e889-4f9b-bc53-d56723de2459",
   "metadata": {},
   "outputs": [],
   "source": [
    "df = df.drop(columns=[\"SMD650\", \"SMQ040\", \"ALQ270\", \"PAD820\", \"IND310\"])"
   ]
  },
  {
   "cell_type": "code",
   "execution_count": 5,
   "id": "7ec2af29-22e9-4db5-b55f-d5fe04412a00",
   "metadata": {},
   "outputs": [
    {
     "name": "stdout",
     "output_type": "stream",
     "text": [
      "SEQN           0\n",
      "DPQ020         0\n",
      "DPQ060         0\n",
      "DPQ090         0\n",
      "RIAGENDR       0\n",
      "RIDAGEYR       0\n",
      "RIDRETH3       0\n",
      "DMDEDUC2     245\n",
      "DMDMARTZ     245\n",
      "INDFMPIR     669\n",
      "INDFMMPI    1075\n",
      "INDFMMPC     411\n",
      "INQ300       408\n",
      "SLD012        55\n",
      "SLD013        56\n",
      "SMQ020         2\n",
      "ALQ111        25\n",
      "ALQ121       584\n",
      "PAD800      1063\n",
      "PAD680         4\n",
      "dtype: int64\n",
      "(5506, 20)\n"
     ]
    }
   ],
   "source": [
    "print(df.isnull().sum())\n",
    "print(df.shape)"
   ]
  },
  {
   "cell_type": "code",
   "execution_count": 6,
   "id": "cd89eff8-5d9b-4b09-be73-48ea7abc0b83",
   "metadata": {},
   "outputs": [],
   "source": [
    "from sklearn.impute import SimpleImputer\n",
    "\n",
    "num_cols = df.select_dtypes(include=\"number\").columns.tolist()\n",
    "num_cols = [col for col in num_cols if col not in [\"SEQN\", \"DPQ020\", \"DPQ060\", \"DPQ090\"]]\n",
    "\n",
    "imputer = SimpleImputer(strategy=\"median\")\n",
    "df[num_cols] = imputer.fit_transform(df[num_cols])"
   ]
  },
  {
   "cell_type": "code",
   "execution_count": 7,
   "id": "ed05301a-8074-4c8c-a06f-55ddd6f264db",
   "metadata": {},
   "outputs": [
    {
     "name": "stdout",
     "output_type": "stream",
     "text": [
      "SEQN        0\n",
      "DPQ020      0\n",
      "DPQ060      0\n",
      "DPQ090      0\n",
      "RIAGENDR    0\n",
      "RIDAGEYR    0\n",
      "RIDRETH3    0\n",
      "DMDEDUC2    0\n",
      "DMDMARTZ    0\n",
      "INDFMPIR    0\n",
      "INDFMMPI    0\n",
      "INDFMMPC    0\n",
      "INQ300      0\n",
      "SLD012      0\n",
      "SLD013      0\n",
      "SMQ020      0\n",
      "ALQ111      0\n",
      "ALQ121      0\n",
      "PAD800      0\n",
      "PAD680      0\n",
      "dtype: int64\n",
      "(5506, 20)\n"
     ]
    }
   ],
   "source": [
    "print(df.isnull().sum())\n",
    "print(df.shape)"
   ]
  },
  {
   "cell_type": "markdown",
   "id": "fec66b8e-b496-4cbb-9bee-9d214b7d5646",
   "metadata": {},
   "source": [
    "# Model Training"
   ]
  },
  {
   "cell_type": "code",
   "execution_count": null,
   "id": "f3d6a6d7-1bf9-48fa-a6d5-3b8748f1501b",
   "metadata": {},
   "outputs": [],
   "source": []
  }
 ],
 "metadata": {
  "kernelspec": {
   "display_name": "Python 3 (ipykernel)",
   "language": "python",
   "name": "python3"
  },
  "language_info": {
   "codemirror_mode": {
    "name": "ipython",
    "version": 3
   },
   "file_extension": ".py",
   "mimetype": "text/x-python",
   "name": "python",
   "nbconvert_exporter": "python",
   "pygments_lexer": "ipython3",
   "version": "3.12.4"
  }
 },
 "nbformat": 4,
 "nbformat_minor": 5
}
